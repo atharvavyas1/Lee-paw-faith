{
 "cells": [
  {
   "cell_type": "markdown",
   "metadata": {},
   "source": [
    "# Libraries"
   ]
  },
  {
   "cell_type": "code",
   "execution_count": 2,
   "metadata": {},
   "outputs": [],
   "source": [
    "import pandas as pd\n",
    "import numpy as np\n",
    "import matplotlib.pyplot as plt\n",
    "import seaborn as sns\n",
    "import io\n",
    "import requests"
   ]
  },
  {
   "cell_type": "markdown",
   "metadata": {},
   "source": [
    "# Data"
   ]
  },
  {
   "cell_type": "code",
   "execution_count": 3,
   "metadata": {},
   "outputs": [
    {
     "name": "stdout",
     "output_type": "stream",
     "text": [
      "Fetched 1000 records...\n",
      "Fetched 2000 records...\n",
      "Fetched 3000 records...\n",
      "Fetched 4000 records...\n",
      "Fetched 5000 records...\n",
      "Fetched 6000 records...\n",
      "Fetched 7000 records...\n",
      "Fetched 8000 records...\n",
      "Fetched 9000 records...\n",
      "Fetched 10000 records...\n",
      "Fetched 11000 records...\n",
      "Fetched 12000 records...\n",
      "Fetched 13000 records...\n",
      "Fetched 14000 records...\n",
      "Fetched 15000 records...\n",
      "Fetched 16000 records...\n",
      "Fetched 17000 records...\n",
      "Fetched 18000 records...\n",
      "Fetched 19000 records...\n",
      "Fetched 20000 records...\n",
      "Fetched 21000 records...\n",
      "Fetched 22000 records...\n",
      "Fetched 23000 records...\n",
      "Fetched 24000 records...\n",
      "Fetched 25000 records...\n",
      "Fetched 26000 records...\n",
      "Fetched 27000 records...\n",
      "Fetched 28000 records...\n",
      "Fetched 29000 records...\n",
      "Fetched 30000 records...\n",
      "Fetched 31000 records...\n",
      "Total records fetched: 30836\n"
     ]
    }
   ],
   "source": [
    "# Base url with API endpoint\n",
    "BASE_URL = \"https://data.sonomacounty.ca.gov/resource/924a-vesw.csv\" # This is a csv file\n",
    "BATCH_SIZE = 1000\n",
    "offset = 0\n",
    "dfs = []\n",
    "\n",
    "while True:\n",
    "    params = {\n",
    "        \"$limit\": BATCH_SIZE,\n",
    "        \"$offset\": offset\n",
    "    }\n",
    "    response = requests.get(BASE_URL, params=params)\n",
    "    response.raise_for_status()\n",
    "    # If the response is empty, break\n",
    "    if not response.text.strip():\n",
    "        break\n",
    "    batch_df = pd.read_csv(io.StringIO(response.text))\n",
    "    if batch_df.empty:\n",
    "        break\n",
    "    dfs.append(batch_df)\n",
    "    offset += BATCH_SIZE\n",
    "    print(f\"Fetched {offset} records...\")\n",
    "\n",
    "# Concatenate all batches\n",
    "df = pd.concat(dfs, ignore_index=True)\n",
    "print(f\"Total records fetched: {len(df)}\")"
   ]
  },
  {
   "cell_type": "markdown",
   "metadata": {},
   "source": [
    "# Data cleaning"
   ]
  },
  {
   "cell_type": "code",
   "execution_count": null,
   "metadata": {},
   "outputs": [],
   "source": []
  }
 ],
 "metadata": {
  "kernelspec": {
   "display_name": "community-capstone-X1y0cgVF-py3.11",
   "language": "python",
   "name": "python3"
  },
  "language_info": {
   "codemirror_mode": {
    "name": "ipython",
    "version": 3
   },
   "file_extension": ".py",
   "mimetype": "text/x-python",
   "name": "python",
   "nbconvert_exporter": "python",
   "pygments_lexer": "ipython3",
   "version": "3.11.7"
  }
 },
 "nbformat": 4,
 "nbformat_minor": 2
}
