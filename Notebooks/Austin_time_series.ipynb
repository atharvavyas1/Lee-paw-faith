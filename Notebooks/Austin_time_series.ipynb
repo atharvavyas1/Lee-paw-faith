{
 "cells": [
  {
   "cell_type": "markdown",
   "id": "084720e3",
   "metadata": {},
   "source": [
    "# Libraries"
   ]
  },
  {
   "cell_type": "code",
   "execution_count": 1,
   "id": "5fbb78bb",
   "metadata": {},
   "outputs": [],
   "source": [
    "import pandas as pd\n",
    "import numpy as np\n",
    "import matplotlib.pyplot as plt\n",
    "import seaborn as sns\n",
    "from statsmodels.tsa.arima.model import ARIMA\n",
    "from statsmodels.tsa.statespace.sarimax import SARIMAX\n",
    "import warnings\n",
    "warnings.filterwarnings('ignore')"
   ]
  },
  {
   "cell_type": "markdown",
   "id": "4a77dc40",
   "metadata": {},
   "source": [
    "# Data"
   ]
  },
  {
   "cell_type": "markdown",
   "id": "11471e78",
   "metadata": {},
   "source": [
    "## Intake data"
   ]
  },
  {
   "cell_type": "code",
   "execution_count": 2,
   "id": "3354f259",
   "metadata": {},
   "outputs": [],
   "source": [
    "intake_url = \"https://data.austintexas.gov/resource/wter-evkm.csv?$limit=500000\""
   ]
  },
  {
   "cell_type": "code",
   "execution_count": 3,
   "id": "20535e55",
   "metadata": {},
   "outputs": [],
   "source": [
    "df_intakes = pd.read_csv(intake_url)"
   ]
  },
  {
   "cell_type": "markdown",
   "id": "b5658724",
   "metadata": {},
   "source": [
    "## Outcome data"
   ]
  },
  {
   "cell_type": "code",
   "execution_count": 4,
   "id": "80570cf2",
   "metadata": {},
   "outputs": [],
   "source": [
    "outcome_url = \"https://data.austintexas.gov/resource/9t4d-g238.csv?$limit=500000\""
   ]
  },
  {
   "cell_type": "code",
   "execution_count": 5,
   "id": "b60da72b",
   "metadata": {},
   "outputs": [],
   "source": [
    "df_outcomes = pd.read_csv(outcome_url)"
   ]
  }
 ],
 "metadata": {
  "kernelspec": {
   "display_name": "community-capstone-X1y0cgVF-py3.11",
   "language": "python",
   "name": "python3"
  },
  "language_info": {
   "codemirror_mode": {
    "name": "ipython",
    "version": 3
   },
   "file_extension": ".py",
   "mimetype": "text/x-python",
   "name": "python",
   "nbconvert_exporter": "python",
   "pygments_lexer": "ipython3",
   "version": "3.11.7"
  }
 },
 "nbformat": 4,
 "nbformat_minor": 5
}
