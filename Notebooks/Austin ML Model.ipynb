{
 "cells": [
  {
   "cell_type": "markdown",
   "id": "92a6c8ef",
   "metadata": {},
   "source": [
    "# Libraries"
   ]
  },
  {
   "cell_type": "code",
   "execution_count": 1,
   "id": "889b5456",
   "metadata": {},
   "outputs": [],
   "source": [
    "import pandas as pd\n",
    "import numpy as np"
   ]
  },
  {
   "cell_type": "markdown",
   "id": "fdc2b580",
   "metadata": {},
   "source": [
    "# Data"
   ]
  },
  {
   "cell_type": "markdown",
   "id": "97e6304c",
   "metadata": {},
   "source": [
    "## Intake data"
   ]
  },
  {
   "cell_type": "markdown",
   "id": "976ebcbc",
   "metadata": {},
   "source": [
    "### Data url"
   ]
  },
  {
   "cell_type": "code",
   "execution_count": 2,
   "id": "168d0e3d",
   "metadata": {},
   "outputs": [],
   "source": [
    "intake_url = \"https://data.austintexas.gov/resource/wter-evkm.csv?$limit=500000\""
   ]
  },
  {
   "cell_type": "markdown",
   "id": "f2d73e93",
   "metadata": {},
   "source": [
    "### Data pull"
   ]
  },
  {
   "cell_type": "code",
   "execution_count": 4,
   "id": "529a77b8",
   "metadata": {},
   "outputs": [],
   "source": [
    "df_intakes = pd.read_csv(intake_url)"
   ]
  },
  {
   "cell_type": "code",
   "execution_count": 8,
   "id": "a1704455",
   "metadata": {},
   "outputs": [
    {
     "data": {
      "text/html": [
       "<div>\n",
       "<style scoped>\n",
       "    .dataframe tbody tr th:only-of-type {\n",
       "        vertical-align: middle;\n",
       "    }\n",
       "\n",
       "    .dataframe tbody tr th {\n",
       "        vertical-align: top;\n",
       "    }\n",
       "\n",
       "    .dataframe thead th {\n",
       "        text-align: right;\n",
       "    }\n",
       "</style>\n",
       "<table border=\"1\" class=\"dataframe\">\n",
       "  <thead>\n",
       "    <tr style=\"text-align: right;\">\n",
       "      <th></th>\n",
       "      <th>animal_id</th>\n",
       "      <th>name</th>\n",
       "      <th>datetime</th>\n",
       "      <th>datetime2</th>\n",
       "      <th>found_location</th>\n",
       "      <th>intake_type</th>\n",
       "      <th>intake_condition</th>\n",
       "      <th>animal_type</th>\n",
       "      <th>sex_upon_intake</th>\n",
       "      <th>age_upon_intake</th>\n",
       "      <th>breed</th>\n",
       "      <th>color</th>\n",
       "    </tr>\n",
       "  </thead>\n",
       "  <tbody>\n",
       "    <tr>\n",
       "      <th>0</th>\n",
       "      <td>A521520</td>\n",
       "      <td>Nina</td>\n",
       "      <td>2013-10-01T07:51:00.000</td>\n",
       "      <td>2013-10-01T07:51:00.000</td>\n",
       "      <td>Norht Ec in Austin (TX)</td>\n",
       "      <td>Stray</td>\n",
       "      <td>Normal</td>\n",
       "      <td>Dog</td>\n",
       "      <td>Spayed Female</td>\n",
       "      <td>7 years</td>\n",
       "      <td>Border Terrier/Border Collie</td>\n",
       "      <td>White/Tan</td>\n",
       "    </tr>\n",
       "    <tr>\n",
       "      <th>1</th>\n",
       "      <td>A664235</td>\n",
       "      <td>NaN</td>\n",
       "      <td>2013-10-01T08:33:00.000</td>\n",
       "      <td>2013-10-01T08:33:00.000</td>\n",
       "      <td>Abia in Austin (TX)</td>\n",
       "      <td>Stray</td>\n",
       "      <td>Normal</td>\n",
       "      <td>Cat</td>\n",
       "      <td>Unknown</td>\n",
       "      <td>1 week</td>\n",
       "      <td>Domestic Shorthair Mix</td>\n",
       "      <td>Orange/White</td>\n",
       "    </tr>\n",
       "    <tr>\n",
       "      <th>2</th>\n",
       "      <td>A664236</td>\n",
       "      <td>NaN</td>\n",
       "      <td>2013-10-01T08:33:00.000</td>\n",
       "      <td>2013-10-01T08:33:00.000</td>\n",
       "      <td>Abia in Austin (TX)</td>\n",
       "      <td>Stray</td>\n",
       "      <td>Normal</td>\n",
       "      <td>Cat</td>\n",
       "      <td>Unknown</td>\n",
       "      <td>1 week</td>\n",
       "      <td>Domestic Shorthair Mix</td>\n",
       "      <td>Orange/White</td>\n",
       "    </tr>\n",
       "    <tr>\n",
       "      <th>3</th>\n",
       "      <td>A664237</td>\n",
       "      <td>NaN</td>\n",
       "      <td>2013-10-01T08:33:00.000</td>\n",
       "      <td>2013-10-01T08:33:00.000</td>\n",
       "      <td>Abia in Austin (TX)</td>\n",
       "      <td>Stray</td>\n",
       "      <td>Normal</td>\n",
       "      <td>Cat</td>\n",
       "      <td>Unknown</td>\n",
       "      <td>1 week</td>\n",
       "      <td>Domestic Shorthair Mix</td>\n",
       "      <td>Orange/White</td>\n",
       "    </tr>\n",
       "    <tr>\n",
       "      <th>4</th>\n",
       "      <td>A664233</td>\n",
       "      <td>Stevie</td>\n",
       "      <td>2013-10-01T08:53:00.000</td>\n",
       "      <td>2013-10-01T08:53:00.000</td>\n",
       "      <td>7405 Springtime in Austin (TX)</td>\n",
       "      <td>Stray</td>\n",
       "      <td>Injured</td>\n",
       "      <td>Dog</td>\n",
       "      <td>Intact Female</td>\n",
       "      <td>3 years</td>\n",
       "      <td>Pit Bull Mix</td>\n",
       "      <td>Blue/White</td>\n",
       "    </tr>\n",
       "  </tbody>\n",
       "</table>\n",
       "</div>"
      ],
      "text/plain": [
       "  animal_id    name                 datetime                datetime2  \\\n",
       "0   A521520    Nina  2013-10-01T07:51:00.000  2013-10-01T07:51:00.000   \n",
       "1   A664235     NaN  2013-10-01T08:33:00.000  2013-10-01T08:33:00.000   \n",
       "2   A664236     NaN  2013-10-01T08:33:00.000  2013-10-01T08:33:00.000   \n",
       "3   A664237     NaN  2013-10-01T08:33:00.000  2013-10-01T08:33:00.000   \n",
       "4   A664233  Stevie  2013-10-01T08:53:00.000  2013-10-01T08:53:00.000   \n",
       "\n",
       "                   found_location intake_type intake_condition animal_type  \\\n",
       "0         Norht Ec in Austin (TX)       Stray           Normal         Dog   \n",
       "1             Abia in Austin (TX)       Stray           Normal         Cat   \n",
       "2             Abia in Austin (TX)       Stray           Normal         Cat   \n",
       "3             Abia in Austin (TX)       Stray           Normal         Cat   \n",
       "4  7405 Springtime in Austin (TX)       Stray          Injured         Dog   \n",
       "\n",
       "  sex_upon_intake age_upon_intake                         breed         color  \n",
       "0   Spayed Female         7 years  Border Terrier/Border Collie     White/Tan  \n",
       "1         Unknown          1 week        Domestic Shorthair Mix  Orange/White  \n",
       "2         Unknown          1 week        Domestic Shorthair Mix  Orange/White  \n",
       "3         Unknown          1 week        Domestic Shorthair Mix  Orange/White  \n",
       "4   Intact Female         3 years                  Pit Bull Mix    Blue/White  "
      ]
     },
     "execution_count": 8,
     "metadata": {},
     "output_type": "execute_result"
    }
   ],
   "source": [
    "df_intakes.head()"
   ]
  },
  {
   "cell_type": "markdown",
   "id": "5aae140d",
   "metadata": {},
   "source": [
    "## Outcome data"
   ]
  },
  {
   "cell_type": "markdown",
   "id": "6fc9f04e",
   "metadata": {},
   "source": [
    "### Data url"
   ]
  },
  {
   "cell_type": "code",
   "execution_count": 5,
   "id": "3dc6fdfc",
   "metadata": {},
   "outputs": [],
   "source": [
    "outcome_url = \"https://data.austintexas.gov/resource/9t4d-g238.csv?$limit=500000\""
   ]
  },
  {
   "cell_type": "markdown",
   "id": "1914c3f8",
   "metadata": {},
   "source": [
    "### Data pull"
   ]
  },
  {
   "cell_type": "code",
   "execution_count": 6,
   "id": "b074bf74",
   "metadata": {},
   "outputs": [],
   "source": [
    "df_outcomes = pd.read_csv(outcome_url)"
   ]
  },
  {
   "cell_type": "code",
   "execution_count": 7,
   "id": "46a11173",
   "metadata": {},
   "outputs": [
    {
     "data": {
      "text/html": [
       "<div>\n",
       "<style scoped>\n",
       "    .dataframe tbody tr th:only-of-type {\n",
       "        vertical-align: middle;\n",
       "    }\n",
       "\n",
       "    .dataframe tbody tr th {\n",
       "        vertical-align: top;\n",
       "    }\n",
       "\n",
       "    .dataframe thead th {\n",
       "        text-align: right;\n",
       "    }\n",
       "</style>\n",
       "<table border=\"1\" class=\"dataframe\">\n",
       "  <thead>\n",
       "    <tr style=\"text-align: right;\">\n",
       "      <th></th>\n",
       "      <th>animal_id</th>\n",
       "      <th>date_of_birth</th>\n",
       "      <th>name</th>\n",
       "      <th>datetime</th>\n",
       "      <th>monthyear</th>\n",
       "      <th>outcome_type</th>\n",
       "      <th>outcome_subtype</th>\n",
       "      <th>animal_type</th>\n",
       "      <th>sex_upon_outcome</th>\n",
       "      <th>age_upon_outcome</th>\n",
       "      <th>breed</th>\n",
       "      <th>color</th>\n",
       "    </tr>\n",
       "  </thead>\n",
       "  <tbody>\n",
       "    <tr>\n",
       "      <th>0</th>\n",
       "      <td>A668305</td>\n",
       "      <td>2012-12-01</td>\n",
       "      <td>NaN</td>\n",
       "      <td>2013-12-02T00:00:00-05:00</td>\n",
       "      <td>12-2013</td>\n",
       "      <td>Transfer</td>\n",
       "      <td>Partner</td>\n",
       "      <td>Other</td>\n",
       "      <td>Unknown</td>\n",
       "      <td>1 year</td>\n",
       "      <td>Turtle Mix</td>\n",
       "      <td>Brown/Yellow</td>\n",
       "    </tr>\n",
       "    <tr>\n",
       "      <th>1</th>\n",
       "      <td>A673335</td>\n",
       "      <td>2012-02-22</td>\n",
       "      <td>NaN</td>\n",
       "      <td>2014-02-22T00:00:00-05:00</td>\n",
       "      <td>02-2014</td>\n",
       "      <td>Euthanasia</td>\n",
       "      <td>Suffering</td>\n",
       "      <td>Other</td>\n",
       "      <td>Unknown</td>\n",
       "      <td>2 years</td>\n",
       "      <td>Raccoon</td>\n",
       "      <td>Black/Gray</td>\n",
       "    </tr>\n",
       "    <tr>\n",
       "      <th>2</th>\n",
       "      <td>A675999</td>\n",
       "      <td>2013-04-03</td>\n",
       "      <td>NaN</td>\n",
       "      <td>2014-04-07T00:00:00-05:00</td>\n",
       "      <td>04-2014</td>\n",
       "      <td>Transfer</td>\n",
       "      <td>Partner</td>\n",
       "      <td>Other</td>\n",
       "      <td>Unknown</td>\n",
       "      <td>1 year</td>\n",
       "      <td>Turtle Mix</td>\n",
       "      <td>Green</td>\n",
       "    </tr>\n",
       "    <tr>\n",
       "      <th>3</th>\n",
       "      <td>A679066</td>\n",
       "      <td>2014-04-16</td>\n",
       "      <td>NaN</td>\n",
       "      <td>2014-05-16T00:00:00-05:00</td>\n",
       "      <td>05-2014</td>\n",
       "      <td>NaN</td>\n",
       "      <td>NaN</td>\n",
       "      <td>Other</td>\n",
       "      <td>Unknown</td>\n",
       "      <td>4 weeks</td>\n",
       "      <td>Rabbit Sh</td>\n",
       "      <td>Brown</td>\n",
       "    </tr>\n",
       "    <tr>\n",
       "      <th>4</th>\n",
       "      <td>A680855</td>\n",
       "      <td>2014-05-25</td>\n",
       "      <td>NaN</td>\n",
       "      <td>2014-06-10T00:00:00-05:00</td>\n",
       "      <td>06-2014</td>\n",
       "      <td>Transfer</td>\n",
       "      <td>Partner</td>\n",
       "      <td>Bird</td>\n",
       "      <td>Unknown</td>\n",
       "      <td>2 weeks</td>\n",
       "      <td>Duck</td>\n",
       "      <td>Yellow/Black</td>\n",
       "    </tr>\n",
       "  </tbody>\n",
       "</table>\n",
       "</div>"
      ],
      "text/plain": [
       "  animal_id date_of_birth name                   datetime monthyear  \\\n",
       "0   A668305    2012-12-01  NaN  2013-12-02T00:00:00-05:00   12-2013   \n",
       "1   A673335    2012-02-22  NaN  2014-02-22T00:00:00-05:00   02-2014   \n",
       "2   A675999    2013-04-03  NaN  2014-04-07T00:00:00-05:00   04-2014   \n",
       "3   A679066    2014-04-16  NaN  2014-05-16T00:00:00-05:00   05-2014   \n",
       "4   A680855    2014-05-25  NaN  2014-06-10T00:00:00-05:00   06-2014   \n",
       "\n",
       "  outcome_type outcome_subtype animal_type sex_upon_outcome age_upon_outcome  \\\n",
       "0     Transfer         Partner       Other          Unknown           1 year   \n",
       "1   Euthanasia       Suffering       Other          Unknown          2 years   \n",
       "2     Transfer         Partner       Other          Unknown           1 year   \n",
       "3          NaN             NaN       Other          Unknown          4 weeks   \n",
       "4     Transfer         Partner        Bird          Unknown          2 weeks   \n",
       "\n",
       "        breed         color  \n",
       "0  Turtle Mix  Brown/Yellow  \n",
       "1     Raccoon    Black/Gray  \n",
       "2  Turtle Mix         Green  \n",
       "3   Rabbit Sh         Brown  \n",
       "4        Duck  Yellow/Black  "
      ]
     },
     "execution_count": 7,
     "metadata": {},
     "output_type": "execute_result"
    }
   ],
   "source": [
    "df_outcomes.head()"
   ]
  },
  {
   "cell_type": "markdown",
   "id": "d22a7a0a",
   "metadata": {},
   "source": [
    "# EDA"
   ]
  },
  {
   "cell_type": "markdown",
   "id": "448c9c52",
   "metadata": {},
   "source": [
    "## Missing values in intakes"
   ]
  },
  {
   "cell_type": "code",
   "execution_count": 10,
   "id": "0949a882",
   "metadata": {},
   "outputs": [
    {
     "name": "stdout",
     "output_type": "stream",
     "text": [
      "Missing values in df_intakes:\n",
      " animal_id               0\n",
      "name                49991\n",
      "datetime                0\n",
      "datetime2               0\n",
      "found_location          0\n",
      "intake_type             0\n",
      "intake_condition        0\n",
      "animal_type             0\n",
      "sex_upon_intake         1\n",
      "age_upon_intake         0\n",
      "breed                   0\n",
      "color                   0\n",
      "dtype: int64\n"
     ]
    }
   ],
   "source": [
    "# Check for missing values in df_outcomes\n",
    "missing_values = df_intakes.isnull().sum()\n",
    "print(\"Missing values in df_intakes:\\n\", missing_values)"
   ]
  },
  {
   "cell_type": "markdown",
   "id": "d8366e72",
   "metadata": {},
   "source": [
    "## Missing values in outcomes"
   ]
  },
  {
   "cell_type": "code",
   "execution_count": 9,
   "id": "a53ce188",
   "metadata": {},
   "outputs": [
    {
     "name": "stdout",
     "output_type": "stream",
     "text": [
      "Missing values in df_outcomes:\n",
      " animal_id               0\n",
      "date_of_birth           0\n",
      "name                49784\n",
      "datetime                0\n",
      "monthyear               0\n",
      "outcome_type           46\n",
      "outcome_subtype     94115\n",
      "animal_type             0\n",
      "sex_upon_outcome        1\n",
      "age_upon_outcome        9\n",
      "breed                   0\n",
      "color                   0\n",
      "dtype: int64\n"
     ]
    }
   ],
   "source": [
    "# Check for missing values in df_outcomes\n",
    "missing_values = df_outcomes.isnull().sum()\n",
    "print(\"Missing values in df_outcomes:\\n\", missing_values)"
   ]
  },
  {
   "cell_type": "markdown",
   "id": "dcb128b6",
   "metadata": {},
   "source": [
    "## Unique values in date_of_birth"
   ]
  },
  {
   "cell_type": "code",
   "execution_count": null,
   "id": "4eeb7737",
   "metadata": {},
   "outputs": [
    {
     "data": {
      "text/plain": [
       "np.int64(0)"
      ]
     },
     "execution_count": 14,
     "metadata": {},
     "output_type": "execute_result"
    }
   ],
   "source": []
  },
  {
   "cell_type": "markdown",
   "id": "124a5488",
   "metadata": {},
   "source": [
    "# Preprocessing"
   ]
  },
  {
   "cell_type": "markdown",
   "id": "a93f00ab",
   "metadata": {},
   "source": [
    "## Fix datetime column"
   ]
  },
  {
   "cell_type": "markdown",
   "id": "79a47c49",
   "metadata": {},
   "source": [
    "### Intakes"
   ]
  },
  {
   "cell_type": "markdown",
   "id": "18213d9e",
   "metadata": {},
   "source": [
    "### Outcomes"
   ]
  },
  {
   "cell_type": "markdown",
   "id": "01d27028",
   "metadata": {},
   "source": [
    "## Dropping null values from both dataframes"
   ]
  },
  {
   "cell_type": "markdown",
   "id": "e3a3f20c",
   "metadata": {},
   "source": [
    "## Combining both dataframes into one"
   ]
  },
  {
   "cell_type": "code",
   "execution_count": null,
   "id": "5531e387",
   "metadata": {},
   "outputs": [],
   "source": []
  },
  {
   "cell_type": "markdown",
   "id": "dcb3df06",
   "metadata": {},
   "source": [
    "## Age variable fix"
   ]
  },
  {
   "cell_type": "markdown",
   "id": "c90b8446",
   "metadata": {},
   "source": [
    "## Breed variable fix"
   ]
  },
  {
   "cell_type": "markdown",
   "id": "1b435380",
   "metadata": {},
   "source": [
    "## Has name column"
   ]
  },
  {
   "cell_type": "markdown",
   "id": "139dd496",
   "metadata": {},
   "source": [
    "## Duplicate case fix"
   ]
  },
  {
   "cell_type": "markdown",
   "id": "cee1a5eb",
   "metadata": {},
   "source": [
    "## Is fixed column"
   ]
  },
  {
   "cell_type": "markdown",
   "id": "19e60a32",
   "metadata": {},
   "source": [
    "## Keeping only Dogs and Cats"
   ]
  },
  {
   "cell_type": "markdown",
   "id": "21c65618",
   "metadata": {},
   "source": [
    "## Fix found_location column to extract feature"
   ]
  },
  {
   "cell_type": "markdown",
   "id": "6a859e99",
   "metadata": {},
   "source": [
    "## Create target variable **Is_Adopted**"
   ]
  },
  {
   "cell_type": "markdown",
   "id": "26fea1f6",
   "metadata": {},
   "source": [
    "## Drop *outcome_subtype* "
   ]
  },
  {
   "cell_type": "markdown",
   "id": "b3086010",
   "metadata": {},
   "source": []
  }
 ],
 "metadata": {
  "kernelspec": {
   "display_name": "community-capstone-X1y0cgVF-py3.11",
   "language": "python",
   "name": "python3"
  },
  "language_info": {
   "codemirror_mode": {
    "name": "ipython",
    "version": 3
   },
   "file_extension": ".py",
   "mimetype": "text/x-python",
   "name": "python",
   "nbconvert_exporter": "python",
   "pygments_lexer": "ipython3",
   "version": "3.11.7"
  }
 },
 "nbformat": 4,
 "nbformat_minor": 5
}
