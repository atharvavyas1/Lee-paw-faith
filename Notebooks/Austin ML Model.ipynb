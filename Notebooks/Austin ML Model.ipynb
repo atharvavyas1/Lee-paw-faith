{
 "cells": [
  {
   "cell_type": "markdown",
   "id": "92a6c8ef",
   "metadata": {},
   "source": [
    "# Libraries"
   ]
  },
  {
   "cell_type": "code",
   "execution_count": 1,
   "id": "889b5456",
   "metadata": {},
   "outputs": [],
   "source": [
    "import pandas as pd\n",
    "import numpy as np\n",
    "import re"
   ]
  },
  {
   "cell_type": "markdown",
   "id": "fdc2b580",
   "metadata": {},
   "source": [
    "# Data"
   ]
  },
  {
   "cell_type": "markdown",
   "id": "97e6304c",
   "metadata": {},
   "source": [
    "## Intake data"
   ]
  },
  {
   "cell_type": "markdown",
   "id": "976ebcbc",
   "metadata": {},
   "source": [
    "### Data url"
   ]
  },
  {
   "cell_type": "code",
   "execution_count": 2,
   "id": "168d0e3d",
   "metadata": {},
   "outputs": [],
   "source": [
    "intake_url = \"https://data.austintexas.gov/resource/wter-evkm.csv?$limit=500000\""
   ]
  },
  {
   "cell_type": "markdown",
   "id": "f2d73e93",
   "metadata": {},
   "source": [
    "### Data pull"
   ]
  },
  {
   "cell_type": "code",
   "execution_count": 3,
   "id": "529a77b8",
   "metadata": {},
   "outputs": [],
   "source": [
    "df_intakes = pd.read_csv(intake_url)"
   ]
  },
  {
   "cell_type": "markdown",
   "id": "b009f582",
   "metadata": {},
   "source": [
    "### Data preview"
   ]
  },
  {
   "cell_type": "code",
   "execution_count": 4,
   "id": "a1704455",
   "metadata": {},
   "outputs": [
    {
     "data": {
      "text/html": [
       "<div>\n",
       "<style scoped>\n",
       "    .dataframe tbody tr th:only-of-type {\n",
       "        vertical-align: middle;\n",
       "    }\n",
       "\n",
       "    .dataframe tbody tr th {\n",
       "        vertical-align: top;\n",
       "    }\n",
       "\n",
       "    .dataframe thead th {\n",
       "        text-align: right;\n",
       "    }\n",
       "</style>\n",
       "<table border=\"1\" class=\"dataframe\">\n",
       "  <thead>\n",
       "    <tr style=\"text-align: right;\">\n",
       "      <th></th>\n",
       "      <th>animal_id</th>\n",
       "      <th>name</th>\n",
       "      <th>datetime</th>\n",
       "      <th>datetime2</th>\n",
       "      <th>found_location</th>\n",
       "      <th>intake_type</th>\n",
       "      <th>intake_condition</th>\n",
       "      <th>animal_type</th>\n",
       "      <th>sex_upon_intake</th>\n",
       "      <th>age_upon_intake</th>\n",
       "      <th>breed</th>\n",
       "      <th>color</th>\n",
       "    </tr>\n",
       "  </thead>\n",
       "  <tbody>\n",
       "    <tr>\n",
       "      <th>0</th>\n",
       "      <td>A521520</td>\n",
       "      <td>Nina</td>\n",
       "      <td>2013-10-01T07:51:00.000</td>\n",
       "      <td>2013-10-01T07:51:00.000</td>\n",
       "      <td>Norht Ec in Austin (TX)</td>\n",
       "      <td>Stray</td>\n",
       "      <td>Normal</td>\n",
       "      <td>Dog</td>\n",
       "      <td>Spayed Female</td>\n",
       "      <td>7 years</td>\n",
       "      <td>Border Terrier/Border Collie</td>\n",
       "      <td>White/Tan</td>\n",
       "    </tr>\n",
       "    <tr>\n",
       "      <th>1</th>\n",
       "      <td>A664235</td>\n",
       "      <td>NaN</td>\n",
       "      <td>2013-10-01T08:33:00.000</td>\n",
       "      <td>2013-10-01T08:33:00.000</td>\n",
       "      <td>Abia in Austin (TX)</td>\n",
       "      <td>Stray</td>\n",
       "      <td>Normal</td>\n",
       "      <td>Cat</td>\n",
       "      <td>Unknown</td>\n",
       "      <td>1 week</td>\n",
       "      <td>Domestic Shorthair Mix</td>\n",
       "      <td>Orange/White</td>\n",
       "    </tr>\n",
       "    <tr>\n",
       "      <th>2</th>\n",
       "      <td>A664236</td>\n",
       "      <td>NaN</td>\n",
       "      <td>2013-10-01T08:33:00.000</td>\n",
       "      <td>2013-10-01T08:33:00.000</td>\n",
       "      <td>Abia in Austin (TX)</td>\n",
       "      <td>Stray</td>\n",
       "      <td>Normal</td>\n",
       "      <td>Cat</td>\n",
       "      <td>Unknown</td>\n",
       "      <td>1 week</td>\n",
       "      <td>Domestic Shorthair Mix</td>\n",
       "      <td>Orange/White</td>\n",
       "    </tr>\n",
       "    <tr>\n",
       "      <th>3</th>\n",
       "      <td>A664237</td>\n",
       "      <td>NaN</td>\n",
       "      <td>2013-10-01T08:33:00.000</td>\n",
       "      <td>2013-10-01T08:33:00.000</td>\n",
       "      <td>Abia in Austin (TX)</td>\n",
       "      <td>Stray</td>\n",
       "      <td>Normal</td>\n",
       "      <td>Cat</td>\n",
       "      <td>Unknown</td>\n",
       "      <td>1 week</td>\n",
       "      <td>Domestic Shorthair Mix</td>\n",
       "      <td>Orange/White</td>\n",
       "    </tr>\n",
       "    <tr>\n",
       "      <th>4</th>\n",
       "      <td>A664233</td>\n",
       "      <td>Stevie</td>\n",
       "      <td>2013-10-01T08:53:00.000</td>\n",
       "      <td>2013-10-01T08:53:00.000</td>\n",
       "      <td>7405 Springtime in Austin (TX)</td>\n",
       "      <td>Stray</td>\n",
       "      <td>Injured</td>\n",
       "      <td>Dog</td>\n",
       "      <td>Intact Female</td>\n",
       "      <td>3 years</td>\n",
       "      <td>Pit Bull Mix</td>\n",
       "      <td>Blue/White</td>\n",
       "    </tr>\n",
       "  </tbody>\n",
       "</table>\n",
       "</div>"
      ],
      "text/plain": [
       "  animal_id    name                 datetime                datetime2  \\\n",
       "0   A521520    Nina  2013-10-01T07:51:00.000  2013-10-01T07:51:00.000   \n",
       "1   A664235     NaN  2013-10-01T08:33:00.000  2013-10-01T08:33:00.000   \n",
       "2   A664236     NaN  2013-10-01T08:33:00.000  2013-10-01T08:33:00.000   \n",
       "3   A664237     NaN  2013-10-01T08:33:00.000  2013-10-01T08:33:00.000   \n",
       "4   A664233  Stevie  2013-10-01T08:53:00.000  2013-10-01T08:53:00.000   \n",
       "\n",
       "                   found_location intake_type intake_condition animal_type  \\\n",
       "0         Norht Ec in Austin (TX)       Stray           Normal         Dog   \n",
       "1             Abia in Austin (TX)       Stray           Normal         Cat   \n",
       "2             Abia in Austin (TX)       Stray           Normal         Cat   \n",
       "3             Abia in Austin (TX)       Stray           Normal         Cat   \n",
       "4  7405 Springtime in Austin (TX)       Stray          Injured         Dog   \n",
       "\n",
       "  sex_upon_intake age_upon_intake                         breed         color  \n",
       "0   Spayed Female         7 years  Border Terrier/Border Collie     White/Tan  \n",
       "1         Unknown          1 week        Domestic Shorthair Mix  Orange/White  \n",
       "2         Unknown          1 week        Domestic Shorthair Mix  Orange/White  \n",
       "3         Unknown          1 week        Domestic Shorthair Mix  Orange/White  \n",
       "4   Intact Female         3 years                  Pit Bull Mix    Blue/White  "
      ]
     },
     "execution_count": 4,
     "metadata": {},
     "output_type": "execute_result"
    }
   ],
   "source": [
    "df_intakes.head()"
   ]
  },
  {
   "cell_type": "markdown",
   "id": "5aae140d",
   "metadata": {},
   "source": [
    "## Outcome data"
   ]
  },
  {
   "cell_type": "markdown",
   "id": "6fc9f04e",
   "metadata": {},
   "source": [
    "### Data url"
   ]
  },
  {
   "cell_type": "code",
   "execution_count": 5,
   "id": "3dc6fdfc",
   "metadata": {},
   "outputs": [],
   "source": [
    "outcome_url = \"https://data.austintexas.gov/resource/9t4d-g238.csv?$limit=500000\""
   ]
  },
  {
   "cell_type": "markdown",
   "id": "1914c3f8",
   "metadata": {},
   "source": [
    "### Data pull"
   ]
  },
  {
   "cell_type": "code",
   "execution_count": 6,
   "id": "b074bf74",
   "metadata": {},
   "outputs": [],
   "source": [
    "df_outcomes = pd.read_csv(outcome_url)"
   ]
  },
  {
   "cell_type": "markdown",
   "id": "7c012c50",
   "metadata": {},
   "source": [
    "### Data preview"
   ]
  },
  {
   "cell_type": "code",
   "execution_count": 7,
   "id": "46a11173",
   "metadata": {},
   "outputs": [
    {
     "data": {
      "text/html": [
       "<div>\n",
       "<style scoped>\n",
       "    .dataframe tbody tr th:only-of-type {\n",
       "        vertical-align: middle;\n",
       "    }\n",
       "\n",
       "    .dataframe tbody tr th {\n",
       "        vertical-align: top;\n",
       "    }\n",
       "\n",
       "    .dataframe thead th {\n",
       "        text-align: right;\n",
       "    }\n",
       "</style>\n",
       "<table border=\"1\" class=\"dataframe\">\n",
       "  <thead>\n",
       "    <tr style=\"text-align: right;\">\n",
       "      <th></th>\n",
       "      <th>animal_id</th>\n",
       "      <th>date_of_birth</th>\n",
       "      <th>name</th>\n",
       "      <th>datetime</th>\n",
       "      <th>monthyear</th>\n",
       "      <th>outcome_type</th>\n",
       "      <th>outcome_subtype</th>\n",
       "      <th>animal_type</th>\n",
       "      <th>sex_upon_outcome</th>\n",
       "      <th>age_upon_outcome</th>\n",
       "      <th>breed</th>\n",
       "      <th>color</th>\n",
       "    </tr>\n",
       "  </thead>\n",
       "  <tbody>\n",
       "    <tr>\n",
       "      <th>0</th>\n",
       "      <td>A668305</td>\n",
       "      <td>2012-12-01</td>\n",
       "      <td>NaN</td>\n",
       "      <td>2013-12-02T00:00:00-05:00</td>\n",
       "      <td>12-2013</td>\n",
       "      <td>Transfer</td>\n",
       "      <td>Partner</td>\n",
       "      <td>Other</td>\n",
       "      <td>Unknown</td>\n",
       "      <td>1 year</td>\n",
       "      <td>Turtle Mix</td>\n",
       "      <td>Brown/Yellow</td>\n",
       "    </tr>\n",
       "    <tr>\n",
       "      <th>1</th>\n",
       "      <td>A673335</td>\n",
       "      <td>2012-02-22</td>\n",
       "      <td>NaN</td>\n",
       "      <td>2014-02-22T00:00:00-05:00</td>\n",
       "      <td>02-2014</td>\n",
       "      <td>Euthanasia</td>\n",
       "      <td>Suffering</td>\n",
       "      <td>Other</td>\n",
       "      <td>Unknown</td>\n",
       "      <td>2 years</td>\n",
       "      <td>Raccoon</td>\n",
       "      <td>Black/Gray</td>\n",
       "    </tr>\n",
       "    <tr>\n",
       "      <th>2</th>\n",
       "      <td>A675999</td>\n",
       "      <td>2013-04-03</td>\n",
       "      <td>NaN</td>\n",
       "      <td>2014-04-07T00:00:00-05:00</td>\n",
       "      <td>04-2014</td>\n",
       "      <td>Transfer</td>\n",
       "      <td>Partner</td>\n",
       "      <td>Other</td>\n",
       "      <td>Unknown</td>\n",
       "      <td>1 year</td>\n",
       "      <td>Turtle Mix</td>\n",
       "      <td>Green</td>\n",
       "    </tr>\n",
       "    <tr>\n",
       "      <th>3</th>\n",
       "      <td>A679066</td>\n",
       "      <td>2014-04-16</td>\n",
       "      <td>NaN</td>\n",
       "      <td>2014-05-16T00:00:00-05:00</td>\n",
       "      <td>05-2014</td>\n",
       "      <td>NaN</td>\n",
       "      <td>NaN</td>\n",
       "      <td>Other</td>\n",
       "      <td>Unknown</td>\n",
       "      <td>4 weeks</td>\n",
       "      <td>Rabbit Sh</td>\n",
       "      <td>Brown</td>\n",
       "    </tr>\n",
       "    <tr>\n",
       "      <th>4</th>\n",
       "      <td>A680855</td>\n",
       "      <td>2014-05-25</td>\n",
       "      <td>NaN</td>\n",
       "      <td>2014-06-10T00:00:00-05:00</td>\n",
       "      <td>06-2014</td>\n",
       "      <td>Transfer</td>\n",
       "      <td>Partner</td>\n",
       "      <td>Bird</td>\n",
       "      <td>Unknown</td>\n",
       "      <td>2 weeks</td>\n",
       "      <td>Duck</td>\n",
       "      <td>Yellow/Black</td>\n",
       "    </tr>\n",
       "    <tr>\n",
       "      <th>5</th>\n",
       "      <td>A680857</td>\n",
       "      <td>2014-05-25</td>\n",
       "      <td>NaN</td>\n",
       "      <td>2014-06-10T00:00:00-05:00</td>\n",
       "      <td>06-2014</td>\n",
       "      <td>Transfer</td>\n",
       "      <td>Partner</td>\n",
       "      <td>Bird</td>\n",
       "      <td>Unknown</td>\n",
       "      <td>2 weeks</td>\n",
       "      <td>Duck</td>\n",
       "      <td>Yellow/Black</td>\n",
       "    </tr>\n",
       "    <tr>\n",
       "      <th>6</th>\n",
       "      <td>A680858</td>\n",
       "      <td>2014-05-25</td>\n",
       "      <td>NaN</td>\n",
       "      <td>2014-06-10T00:00:00-05:00</td>\n",
       "      <td>06-2014</td>\n",
       "      <td>Transfer</td>\n",
       "      <td>Partner</td>\n",
       "      <td>Bird</td>\n",
       "      <td>Unknown</td>\n",
       "      <td>2 weeks</td>\n",
       "      <td>Duck</td>\n",
       "      <td>Yellow/Black</td>\n",
       "    </tr>\n",
       "    <tr>\n",
       "      <th>7</th>\n",
       "      <td>A680859</td>\n",
       "      <td>2014-05-25</td>\n",
       "      <td>NaN</td>\n",
       "      <td>2014-06-10T00:00:00-05:00</td>\n",
       "      <td>06-2014</td>\n",
       "      <td>Transfer</td>\n",
       "      <td>Partner</td>\n",
       "      <td>Bird</td>\n",
       "      <td>Unknown</td>\n",
       "      <td>2 weeks</td>\n",
       "      <td>Duck</td>\n",
       "      <td>Yellow/Black</td>\n",
       "    </tr>\n",
       "    <tr>\n",
       "      <th>8</th>\n",
       "      <td>A680860</td>\n",
       "      <td>2014-05-25</td>\n",
       "      <td>NaN</td>\n",
       "      <td>2014-06-10T00:00:00-05:00</td>\n",
       "      <td>06-2014</td>\n",
       "      <td>Transfer</td>\n",
       "      <td>Partner</td>\n",
       "      <td>Bird</td>\n",
       "      <td>Unknown</td>\n",
       "      <td>2 weeks</td>\n",
       "      <td>Duck</td>\n",
       "      <td>Yellow/Black</td>\n",
       "    </tr>\n",
       "    <tr>\n",
       "      <th>9</th>\n",
       "      <td>A680861</td>\n",
       "      <td>2014-05-25</td>\n",
       "      <td>NaN</td>\n",
       "      <td>2014-06-10T00:00:00-05:00</td>\n",
       "      <td>06-2014</td>\n",
       "      <td>Transfer</td>\n",
       "      <td>Partner</td>\n",
       "      <td>Bird</td>\n",
       "      <td>Unknown</td>\n",
       "      <td>2 weeks</td>\n",
       "      <td>Duck</td>\n",
       "      <td>Yellow/Black</td>\n",
       "    </tr>\n",
       "    <tr>\n",
       "      <th>10</th>\n",
       "      <td>A680862</td>\n",
       "      <td>2014-05-25</td>\n",
       "      <td>NaN</td>\n",
       "      <td>2014-06-10T00:00:00-05:00</td>\n",
       "      <td>06-2014</td>\n",
       "      <td>Transfer</td>\n",
       "      <td>Partner</td>\n",
       "      <td>Bird</td>\n",
       "      <td>Unknown</td>\n",
       "      <td>2 weeks</td>\n",
       "      <td>Duck</td>\n",
       "      <td>Yellow/Black</td>\n",
       "    </tr>\n",
       "    <tr>\n",
       "      <th>11</th>\n",
       "      <td>A680863</td>\n",
       "      <td>2014-05-25</td>\n",
       "      <td>NaN</td>\n",
       "      <td>2014-06-10T00:00:00-05:00</td>\n",
       "      <td>06-2014</td>\n",
       "      <td>Transfer</td>\n",
       "      <td>Partner</td>\n",
       "      <td>Bird</td>\n",
       "      <td>Unknown</td>\n",
       "      <td>2 weeks</td>\n",
       "      <td>Duck</td>\n",
       "      <td>Yellow/Black</td>\n",
       "    </tr>\n",
       "    <tr>\n",
       "      <th>12</th>\n",
       "      <td>A683090</td>\n",
       "      <td>2014-04-22</td>\n",
       "      <td>Jenny Tyson</td>\n",
       "      <td>2014-07-11T00:00:00-05:00</td>\n",
       "      <td>07-2014</td>\n",
       "      <td>Adoption</td>\n",
       "      <td>NaN</td>\n",
       "      <td>Dog</td>\n",
       "      <td>Spayed Female</td>\n",
       "      <td>2 months</td>\n",
       "      <td>Black Mouth Cur Mix</td>\n",
       "      <td>Brown/Black</td>\n",
       "    </tr>\n",
       "    <tr>\n",
       "      <th>13</th>\n",
       "      <td>A683591</td>\n",
       "      <td>2014-06-12</td>\n",
       "      <td>NaN</td>\n",
       "      <td>2014-07-12T00:00:00-05:00</td>\n",
       "      <td>07-2014</td>\n",
       "      <td>Transfer</td>\n",
       "      <td>Partner</td>\n",
       "      <td>Bird</td>\n",
       "      <td>Unknown</td>\n",
       "      <td>4 weeks</td>\n",
       "      <td>Catbird Mix</td>\n",
       "      <td>Brown</td>\n",
       "    </tr>\n",
       "    <tr>\n",
       "      <th>14</th>\n",
       "      <td>A683693</td>\n",
       "      <td>2014-06-29</td>\n",
       "      <td>NaN</td>\n",
       "      <td>2014-07-14T00:00:00-05:00</td>\n",
       "      <td>07-2014</td>\n",
       "      <td>Transfer</td>\n",
       "      <td>Partner</td>\n",
       "      <td>Bird</td>\n",
       "      <td>Unknown</td>\n",
       "      <td>2 weeks</td>\n",
       "      <td>Grackle Mix</td>\n",
       "      <td>Black/White</td>\n",
       "    </tr>\n",
       "    <tr>\n",
       "      <th>15</th>\n",
       "      <td>A686222</td>\n",
       "      <td>2014-03-13</td>\n",
       "      <td>NaN</td>\n",
       "      <td>2014-08-20T00:00:00-05:00</td>\n",
       "      <td>08-2014</td>\n",
       "      <td>Transfer</td>\n",
       "      <td>Partner</td>\n",
       "      <td>Bird</td>\n",
       "      <td>Intact Male</td>\n",
       "      <td>5 months</td>\n",
       "      <td>Silkie Mix</td>\n",
       "      <td>Black</td>\n",
       "    </tr>\n",
       "    <tr>\n",
       "      <th>16</th>\n",
       "      <td>A688001</td>\n",
       "      <td>2014-07-12</td>\n",
       "      <td>NaN</td>\n",
       "      <td>2014-09-16T00:00:00-05:00</td>\n",
       "      <td>09-2014</td>\n",
       "      <td>Transfer</td>\n",
       "      <td>Partner</td>\n",
       "      <td>Bird</td>\n",
       "      <td>Unknown</td>\n",
       "      <td>2 months</td>\n",
       "      <td>Bantam Mix</td>\n",
       "      <td>White</td>\n",
       "    </tr>\n",
       "    <tr>\n",
       "      <th>17</th>\n",
       "      <td>A688002</td>\n",
       "      <td>2014-07-12</td>\n",
       "      <td>NaN</td>\n",
       "      <td>2014-09-16T00:00:00-05:00</td>\n",
       "      <td>09-2014</td>\n",
       "      <td>Transfer</td>\n",
       "      <td>Partner</td>\n",
       "      <td>Bird</td>\n",
       "      <td>Unknown</td>\n",
       "      <td>2 months</td>\n",
       "      <td>Bantam Mix</td>\n",
       "      <td>White</td>\n",
       "    </tr>\n",
       "    <tr>\n",
       "      <th>18</th>\n",
       "      <td>A687621</td>\n",
       "      <td>2014-03-07</td>\n",
       "      <td>NaN</td>\n",
       "      <td>2014-09-16T00:00:00-05:00</td>\n",
       "      <td>09-2014</td>\n",
       "      <td>Transfer</td>\n",
       "      <td>Partner</td>\n",
       "      <td>Bird</td>\n",
       "      <td>Unknown</td>\n",
       "      <td>6 months</td>\n",
       "      <td>Chicken Mix</td>\n",
       "      <td>Brown</td>\n",
       "    </tr>\n",
       "    <tr>\n",
       "      <th>19</th>\n",
       "      <td>A687622</td>\n",
       "      <td>2014-03-07</td>\n",
       "      <td>NaN</td>\n",
       "      <td>2014-09-16T00:00:00-05:00</td>\n",
       "      <td>09-2014</td>\n",
       "      <td>Transfer</td>\n",
       "      <td>Partner</td>\n",
       "      <td>Bird</td>\n",
       "      <td>Unknown</td>\n",
       "      <td>6 months</td>\n",
       "      <td>Chicken Mix</td>\n",
       "      <td>Brown</td>\n",
       "    </tr>\n",
       "  </tbody>\n",
       "</table>\n",
       "</div>"
      ],
      "text/plain": [
       "   animal_id date_of_birth         name                   datetime monthyear  \\\n",
       "0    A668305    2012-12-01          NaN  2013-12-02T00:00:00-05:00   12-2013   \n",
       "1    A673335    2012-02-22          NaN  2014-02-22T00:00:00-05:00   02-2014   \n",
       "2    A675999    2013-04-03          NaN  2014-04-07T00:00:00-05:00   04-2014   \n",
       "3    A679066    2014-04-16          NaN  2014-05-16T00:00:00-05:00   05-2014   \n",
       "4    A680855    2014-05-25          NaN  2014-06-10T00:00:00-05:00   06-2014   \n",
       "5    A680857    2014-05-25          NaN  2014-06-10T00:00:00-05:00   06-2014   \n",
       "6    A680858    2014-05-25          NaN  2014-06-10T00:00:00-05:00   06-2014   \n",
       "7    A680859    2014-05-25          NaN  2014-06-10T00:00:00-05:00   06-2014   \n",
       "8    A680860    2014-05-25          NaN  2014-06-10T00:00:00-05:00   06-2014   \n",
       "9    A680861    2014-05-25          NaN  2014-06-10T00:00:00-05:00   06-2014   \n",
       "10   A680862    2014-05-25          NaN  2014-06-10T00:00:00-05:00   06-2014   \n",
       "11   A680863    2014-05-25          NaN  2014-06-10T00:00:00-05:00   06-2014   \n",
       "12   A683090    2014-04-22  Jenny Tyson  2014-07-11T00:00:00-05:00   07-2014   \n",
       "13   A683591    2014-06-12          NaN  2014-07-12T00:00:00-05:00   07-2014   \n",
       "14   A683693    2014-06-29          NaN  2014-07-14T00:00:00-05:00   07-2014   \n",
       "15   A686222    2014-03-13          NaN  2014-08-20T00:00:00-05:00   08-2014   \n",
       "16   A688001    2014-07-12          NaN  2014-09-16T00:00:00-05:00   09-2014   \n",
       "17   A688002    2014-07-12          NaN  2014-09-16T00:00:00-05:00   09-2014   \n",
       "18   A687621    2014-03-07          NaN  2014-09-16T00:00:00-05:00   09-2014   \n",
       "19   A687622    2014-03-07          NaN  2014-09-16T00:00:00-05:00   09-2014   \n",
       "\n",
       "   outcome_type outcome_subtype animal_type sex_upon_outcome age_upon_outcome  \\\n",
       "0      Transfer         Partner       Other          Unknown           1 year   \n",
       "1    Euthanasia       Suffering       Other          Unknown          2 years   \n",
       "2      Transfer         Partner       Other          Unknown           1 year   \n",
       "3           NaN             NaN       Other          Unknown          4 weeks   \n",
       "4      Transfer         Partner        Bird          Unknown          2 weeks   \n",
       "5      Transfer         Partner        Bird          Unknown          2 weeks   \n",
       "6      Transfer         Partner        Bird          Unknown          2 weeks   \n",
       "7      Transfer         Partner        Bird          Unknown          2 weeks   \n",
       "8      Transfer         Partner        Bird          Unknown          2 weeks   \n",
       "9      Transfer         Partner        Bird          Unknown          2 weeks   \n",
       "10     Transfer         Partner        Bird          Unknown          2 weeks   \n",
       "11     Transfer         Partner        Bird          Unknown          2 weeks   \n",
       "12     Adoption             NaN         Dog    Spayed Female         2 months   \n",
       "13     Transfer         Partner        Bird          Unknown          4 weeks   \n",
       "14     Transfer         Partner        Bird          Unknown          2 weeks   \n",
       "15     Transfer         Partner        Bird      Intact Male         5 months   \n",
       "16     Transfer         Partner        Bird          Unknown         2 months   \n",
       "17     Transfer         Partner        Bird          Unknown         2 months   \n",
       "18     Transfer         Partner        Bird          Unknown         6 months   \n",
       "19     Transfer         Partner        Bird          Unknown         6 months   \n",
       "\n",
       "                  breed         color  \n",
       "0            Turtle Mix  Brown/Yellow  \n",
       "1               Raccoon    Black/Gray  \n",
       "2            Turtle Mix         Green  \n",
       "3             Rabbit Sh         Brown  \n",
       "4                  Duck  Yellow/Black  \n",
       "5                  Duck  Yellow/Black  \n",
       "6                  Duck  Yellow/Black  \n",
       "7                  Duck  Yellow/Black  \n",
       "8                  Duck  Yellow/Black  \n",
       "9                  Duck  Yellow/Black  \n",
       "10                 Duck  Yellow/Black  \n",
       "11                 Duck  Yellow/Black  \n",
       "12  Black Mouth Cur Mix   Brown/Black  \n",
       "13          Catbird Mix         Brown  \n",
       "14          Grackle Mix   Black/White  \n",
       "15           Silkie Mix         Black  \n",
       "16           Bantam Mix         White  \n",
       "17           Bantam Mix         White  \n",
       "18          Chicken Mix         Brown  \n",
       "19          Chicken Mix         Brown  "
      ]
     },
     "execution_count": 7,
     "metadata": {},
     "output_type": "execute_result"
    }
   ],
   "source": [
    "df_outcomes.head(20)"
   ]
  },
  {
   "cell_type": "markdown",
   "id": "d22a7a0a",
   "metadata": {},
   "source": [
    "# EDA"
   ]
  },
  {
   "cell_type": "markdown",
   "id": "448c9c52",
   "metadata": {},
   "source": [
    "## Missing values in intakes"
   ]
  },
  {
   "cell_type": "code",
   "execution_count": 8,
   "id": "0949a882",
   "metadata": {},
   "outputs": [
    {
     "name": "stdout",
     "output_type": "stream",
     "text": [
      "Missing values in df_intakes:\n",
      " animal_id               0\n",
      "name                49991\n",
      "datetime                0\n",
      "datetime2               0\n",
      "found_location          0\n",
      "intake_type             0\n",
      "intake_condition        0\n",
      "animal_type             0\n",
      "sex_upon_intake         1\n",
      "age_upon_intake         0\n",
      "breed                   0\n",
      "color                   0\n",
      "dtype: int64\n"
     ]
    }
   ],
   "source": [
    "# Check for missing values in df_outcomes\n",
    "missing_values = df_intakes.isnull().sum()\n",
    "print(\"Missing values in df_intakes:\\n\", missing_values)"
   ]
  },
  {
   "cell_type": "markdown",
   "id": "d8366e72",
   "metadata": {},
   "source": [
    "## Missing values in outcomes"
   ]
  },
  {
   "cell_type": "code",
   "execution_count": 9,
   "id": "a53ce188",
   "metadata": {},
   "outputs": [
    {
     "name": "stdout",
     "output_type": "stream",
     "text": [
      "Missing values in df_outcomes:\n",
      " animal_id               0\n",
      "date_of_birth           0\n",
      "name                49784\n",
      "datetime                0\n",
      "monthyear               0\n",
      "outcome_type           46\n",
      "outcome_subtype     94115\n",
      "animal_type             0\n",
      "sex_upon_outcome        1\n",
      "age_upon_outcome        9\n",
      "breed                   0\n",
      "color                   0\n",
      "dtype: int64\n"
     ]
    }
   ],
   "source": [
    "# Check for missing values in df_outcomes\n",
    "missing_values = df_outcomes.isnull().sum()\n",
    "print(\"Missing values in df_outcomes:\\n\", missing_values)"
   ]
  },
  {
   "cell_type": "markdown",
   "id": "dcb128b6",
   "metadata": {},
   "source": [
    "## Unique values in color"
   ]
  },
  {
   "cell_type": "code",
   "execution_count": 10,
   "id": "5cda19d6",
   "metadata": {},
   "outputs": [
    {
     "data": {
      "text/plain": [
       "661"
      ]
     },
     "execution_count": 10,
     "metadata": {},
     "output_type": "execute_result"
    }
   ],
   "source": [
    "df_intakes['color'].nunique()"
   ]
  },
  {
   "cell_type": "code",
   "execution_count": 11,
   "id": "4eeb7737",
   "metadata": {},
   "outputs": [
    {
     "data": {
      "text/plain": [
       "663"
      ]
     },
     "execution_count": 11,
     "metadata": {},
     "output_type": "execute_result"
    }
   ],
   "source": [
    "df_outcomes['color'].nunique()"
   ]
  },
  {
   "cell_type": "markdown",
   "id": "45d541bb",
   "metadata": {},
   "source": [
    "High cardinality exists here"
   ]
  },
  {
   "cell_type": "markdown",
   "id": "fe49111f",
   "metadata": {},
   "source": [
    "## Unique values in found_location"
   ]
  },
  {
   "cell_type": "code",
   "execution_count": 12,
   "id": "fd4bbc9e",
   "metadata": {},
   "outputs": [
    {
     "data": {
      "text/plain": [
       "70183"
      ]
     },
     "execution_count": 12,
     "metadata": {},
     "output_type": "execute_result"
    }
   ],
   "source": [
    "df_intakes['found_location'].nunique()"
   ]
  },
  {
   "cell_type": "markdown",
   "id": "eb0cb4b3",
   "metadata": {},
   "source": [
    "High cardinality exists here"
   ]
  },
  {
   "cell_type": "markdown",
   "id": "ee3ef654",
   "metadata": {},
   "source": [
    "## Unique values in breed"
   ]
  },
  {
   "cell_type": "code",
   "execution_count": 13,
   "id": "74a31123",
   "metadata": {},
   "outputs": [
    {
     "data": {
      "text/plain": [
       "3006"
      ]
     },
     "execution_count": 13,
     "metadata": {},
     "output_type": "execute_result"
    }
   ],
   "source": [
    "df_intakes['breed'].nunique()"
   ]
  },
  {
   "cell_type": "code",
   "execution_count": 14,
   "id": "7a62ed27",
   "metadata": {},
   "outputs": [
    {
     "data": {
      "text/plain": [
       "3010"
      ]
     },
     "execution_count": 14,
     "metadata": {},
     "output_type": "execute_result"
    }
   ],
   "source": [
    "df_outcomes['breed'].nunique()"
   ]
  },
  {
   "cell_type": "markdown",
   "id": "e67d697c",
   "metadata": {},
   "source": [
    "High cardinality here too"
   ]
  },
  {
   "cell_type": "markdown",
   "id": "124a5488",
   "metadata": {},
   "source": [
    "# Preprocessing"
   ]
  },
  {
   "cell_type": "markdown",
   "id": "a93f00ab",
   "metadata": {},
   "source": [
    "## Fix datetime column"
   ]
  },
  {
   "cell_type": "markdown",
   "id": "79a47c49",
   "metadata": {},
   "source": [
    "### Intakes"
   ]
  },
  {
   "cell_type": "code",
   "execution_count": 15,
   "id": "80e323a7",
   "metadata": {},
   "outputs": [],
   "source": [
    "df_intakes['datetime'] = pd.to_datetime(df_intakes['datetime'])"
   ]
  },
  {
   "cell_type": "code",
   "execution_count": 16,
   "id": "b776443e",
   "metadata": {},
   "outputs": [],
   "source": [
    "df_intakes['monthyear'] = pd.to_datetime(df_intakes['datetime2']).dt.strftime('%m-%Y')"
   ]
  },
  {
   "cell_type": "code",
   "execution_count": 17,
   "id": "a6c913bc",
   "metadata": {},
   "outputs": [],
   "source": [
    "df_intakes = df_intakes.drop(columns=['datetime2'])"
   ]
  },
  {
   "cell_type": "markdown",
   "id": "18213d9e",
   "metadata": {},
   "source": [
    "### Outcomes"
   ]
  },
  {
   "cell_type": "code",
   "execution_count": 18,
   "id": "3a1cddca",
   "metadata": {},
   "outputs": [],
   "source": [
    "df_outcomes['date_of_birth'] = pd.to_datetime(df_outcomes['date_of_birth'])\n",
    "df_outcomes['monthyear'] = pd.to_datetime(df_outcomes['monthyear'], format='%m-%Y')"
   ]
  },
  {
   "cell_type": "code",
   "execution_count": 19,
   "id": "f43a1858",
   "metadata": {},
   "outputs": [],
   "source": [
    "df_outcomes['datetime'] = pd.to_datetime(df_outcomes['datetime'], format='mixed', utc=True)"
   ]
  },
  {
   "cell_type": "markdown",
   "id": "01d27028",
   "metadata": {},
   "source": [
    "## Dropping null values from both dataframes\n",
    "\n",
    "For **df_intakes**, missing names can be handled later in a binary variable, while, variables like *sex_upon_intake* will need to be omitted from the analysis.\n",
    "\n",
    "For **df_outcomes**, missing values in age and sex will be omitted. "
   ]
  },
  {
   "cell_type": "code",
   "execution_count": 20,
   "id": "a731a63b",
   "metadata": {},
   "outputs": [],
   "source": [
    "df_intakes = df_intakes.dropna(subset=['sex_upon_intake'])"
   ]
  },
  {
   "cell_type": "code",
   "execution_count": 21,
   "id": "7150dcf5",
   "metadata": {},
   "outputs": [],
   "source": [
    "df_outcomes = df_outcomes.dropna(subset=['outcome_type', 'sex_upon_outcome', 'age_upon_outcome'])"
   ]
  },
  {
   "cell_type": "markdown",
   "id": "dcb3df06",
   "metadata": {},
   "source": [
    "## Age variable fix"
   ]
  },
  {
   "cell_type": "code",
   "execution_count": 22,
   "id": "fbdf480c",
   "metadata": {},
   "outputs": [],
   "source": [
    "def convert_age_to_days(age_str, name_str=None):\n",
    "    \"\"\"Convert age string to numeric days\"\"\"\n",
    "    if pd.isna(age_str):\n",
    "        return None\n",
    "    \n",
    "    age_str = age_str.lower()\n",
    "    \n",
    "    # Handle \"0 years\" case - check if newborn based on name containing \"grams\"\n",
    "    if \"0 year\" in age_str:\n",
    "        if name_str and \"grams\" in str(name_str).lower():\n",
    "            return 0  # Newborn\n",
    "        else:\n",
    "            return None  # Missing age data\n",
    "    \n",
    "    total_days = 0\n",
    "    \n",
    "    # Find all number-unit pairs\n",
    "    patterns = [\n",
    "        (r'(\\d+)\\s*year', 365),\n",
    "        (r'(\\d+)\\s*month', 30),\n",
    "        (r'(\\d+)\\s*week', 7),\n",
    "        (r'(\\d+)\\s*day', 1)\n",
    "    ]\n",
    "    \n",
    "    for pattern, multiplier in patterns:\n",
    "        matches = re.findall(pattern, age_str)\n",
    "        for match in matches:\n",
    "            total_days += int(match) * multiplier\n",
    "    \n",
    "    return total_days if total_days > 0 else None\n",
    "\n",
    "def convert_age_to_years(age_str, name_str=None):\n",
    "    \"\"\"Convert age string to numeric years (decimal)\"\"\"\n",
    "    days = convert_age_to_days(age_str, name_str)\n",
    "    return days / 365 if days is not None else None"
   ]
  },
  {
   "cell_type": "code",
   "execution_count": 23,
   "id": "5721bb0f",
   "metadata": {},
   "outputs": [],
   "source": [
    "df_intakes['age_upon_intake_days'] = df_intakes.apply(lambda row: convert_age_to_days(row['age_upon_intake'], row.get('name')), axis=1)\n",
    "df_intakes['age_upon_intake_years'] = df_intakes.apply(lambda row: convert_age_to_years(row['age_upon_intake'], row.get('name')), axis=1)\n",
    "\n",
    "df_outcomes['age_upon_outcome_days'] = df_outcomes.apply(lambda row: convert_age_to_days(row['age_upon_outcome'], row.get('name')), axis=1)\n",
    "df_outcomes['age_upon_outcome_years'] = df_outcomes.apply(lambda row: convert_age_to_years(row['age_upon_outcome'], row.get('name')), axis=1)\n"
   ]
  },
  {
   "cell_type": "code",
   "execution_count": 24,
   "id": "298004a2",
   "metadata": {},
   "outputs": [
    {
     "name": "stdout",
     "output_type": "stream",
     "text": [
      "Sample conversions:\n",
      "7 years -> 2555 days, 7.00 years\n",
      "2 weeks -> 14 days, 0.04 years\n",
      "5 months -> 150 days, 0.41 years\n",
      "10 days -> 10 days, 0.03 years\n"
     ]
    }
   ],
   "source": [
    "print(\"Sample conversions:\")\n",
    "test_ages = [\"7 years\", \"2 weeks\", \"5 months\", \"10 days\"]\n",
    "for age in test_ages:\n",
    "    print(f\"{age} -> {convert_age_to_days(age)} days, {convert_age_to_years(age):.2f} years\")"
   ]
  },
  {
   "cell_type": "code",
   "execution_count": 25,
   "id": "c8c81b0a",
   "metadata": {},
   "outputs": [
    {
     "data": {
      "text/plain": [
       "animal_id                     0\n",
       "date_of_birth                 0\n",
       "name                      49759\n",
       "datetime                      0\n",
       "monthyear                     0\n",
       "outcome_type                  0\n",
       "outcome_subtype           94070\n",
       "animal_type                   0\n",
       "sex_upon_outcome              0\n",
       "age_upon_outcome              0\n",
       "breed                         0\n",
       "color                         0\n",
       "age_upon_outcome_days      2658\n",
       "age_upon_outcome_years     2658\n",
       "dtype: int64"
      ]
     },
     "execution_count": 25,
     "metadata": {},
     "output_type": "execute_result"
    }
   ],
   "source": [
    "df_outcomes.isna().sum()"
   ]
  },
  {
   "cell_type": "markdown",
   "id": "c90b8446",
   "metadata": {},
   "source": [
    "## Breed variable fix"
   ]
  },
  {
   "cell_type": "markdown",
   "id": "1b435380",
   "metadata": {},
   "source": [
    "## Has name column"
   ]
  },
  {
   "cell_type": "markdown",
   "id": "e3a3f20c",
   "metadata": {},
   "source": [
    "## Combining both dataframes into one"
   ]
  },
  {
   "cell_type": "markdown",
   "id": "139dd496",
   "metadata": {},
   "source": [
    "## Duplicate case fix"
   ]
  },
  {
   "cell_type": "markdown",
   "id": "cee1a5eb",
   "metadata": {},
   "source": [
    "## Is fixed column"
   ]
  },
  {
   "cell_type": "markdown",
   "id": "19e60a32",
   "metadata": {},
   "source": [
    "## Keeping only Dogs and Cats"
   ]
  },
  {
   "cell_type": "markdown",
   "id": "21c65618",
   "metadata": {},
   "source": [
    "## Fix found_location column to extract feature"
   ]
  },
  {
   "cell_type": "markdown",
   "id": "6a859e99",
   "metadata": {},
   "source": [
    "## Create target variable **Is_Adopted**"
   ]
  },
  {
   "cell_type": "markdown",
   "id": "26fea1f6",
   "metadata": {},
   "source": [
    "## Drop *outcome_subtype* "
   ]
  },
  {
   "cell_type": "markdown",
   "id": "b3086010",
   "metadata": {},
   "source": []
  }
 ],
 "metadata": {
  "kernelspec": {
   "display_name": "community-capstone-X1y0cgVF-py3.11",
   "language": "python",
   "name": "python3"
  },
  "language_info": {
   "codemirror_mode": {
    "name": "ipython",
    "version": 3
   },
   "file_extension": ".py",
   "mimetype": "text/x-python",
   "name": "python",
   "nbconvert_exporter": "python",
   "pygments_lexer": "ipython3",
   "version": "3.11.7"
  }
 },
 "nbformat": 4,
 "nbformat_minor": 5
}
