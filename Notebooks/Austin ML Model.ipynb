{
 "cells": [
  {
   "cell_type": "markdown",
   "id": "92a6c8ef",
   "metadata": {},
   "source": [
    "# Libraries"
   ]
  },
  {
   "cell_type": "code",
   "execution_count": 1,
   "id": "889b5456",
   "metadata": {},
   "outputs": [],
   "source": [
    "import pandas as pd\n",
    "import numpy as np\n",
    "import re"
   ]
  },
  {
   "cell_type": "code",
   "execution_count": 2,
   "id": "e14dc3d0",
   "metadata": {},
   "outputs": [],
   "source": [
    "pd.set_option('display.max_columns', None)"
   ]
  },
  {
   "cell_type": "markdown",
   "id": "fdc2b580",
   "metadata": {},
   "source": [
    "# Data"
   ]
  },
  {
   "cell_type": "markdown",
   "id": "97e6304c",
   "metadata": {},
   "source": [
    "## Intake data"
   ]
  },
  {
   "cell_type": "markdown",
   "id": "976ebcbc",
   "metadata": {},
   "source": [
    "### Data url"
   ]
  },
  {
   "cell_type": "code",
   "execution_count": 3,
   "id": "168d0e3d",
   "metadata": {},
   "outputs": [],
   "source": [
    "intake_url = \"https://data.austintexas.gov/resource/wter-evkm.csv?$limit=500000\""
   ]
  },
  {
   "cell_type": "markdown",
   "id": "f2d73e93",
   "metadata": {},
   "source": [
    "### Data pull"
   ]
  },
  {
   "cell_type": "code",
   "execution_count": 4,
   "id": "529a77b8",
   "metadata": {},
   "outputs": [],
   "source": [
    "df_intakes = pd.read_csv(intake_url)"
   ]
  },
  {
   "cell_type": "markdown",
   "id": "b009f582",
   "metadata": {},
   "source": [
    "### Data preview"
   ]
  },
  {
   "cell_type": "code",
   "execution_count": 5,
   "id": "a1704455",
   "metadata": {},
   "outputs": [
    {
     "data": {
      "text/html": [
       "<div>\n",
       "<style scoped>\n",
       "    .dataframe tbody tr th:only-of-type {\n",
       "        vertical-align: middle;\n",
       "    }\n",
       "\n",
       "    .dataframe tbody tr th {\n",
       "        vertical-align: top;\n",
       "    }\n",
       "\n",
       "    .dataframe thead th {\n",
       "        text-align: right;\n",
       "    }\n",
       "</style>\n",
       "<table border=\"1\" class=\"dataframe\">\n",
       "  <thead>\n",
       "    <tr style=\"text-align: right;\">\n",
       "      <th></th>\n",
       "      <th>animal_id</th>\n",
       "      <th>name</th>\n",
       "      <th>datetime</th>\n",
       "      <th>datetime2</th>\n",
       "      <th>found_location</th>\n",
       "      <th>intake_type</th>\n",
       "      <th>intake_condition</th>\n",
       "      <th>animal_type</th>\n",
       "      <th>sex_upon_intake</th>\n",
       "      <th>age_upon_intake</th>\n",
       "      <th>breed</th>\n",
       "      <th>color</th>\n",
       "    </tr>\n",
       "  </thead>\n",
       "  <tbody>\n",
       "    <tr>\n",
       "      <th>0</th>\n",
       "      <td>A521520</td>\n",
       "      <td>Nina</td>\n",
       "      <td>2013-10-01T07:51:00.000</td>\n",
       "      <td>2013-10-01T07:51:00.000</td>\n",
       "      <td>Norht Ec in Austin (TX)</td>\n",
       "      <td>Stray</td>\n",
       "      <td>Normal</td>\n",
       "      <td>Dog</td>\n",
       "      <td>Spayed Female</td>\n",
       "      <td>7 years</td>\n",
       "      <td>Border Terrier/Border Collie</td>\n",
       "      <td>White/Tan</td>\n",
       "    </tr>\n",
       "    <tr>\n",
       "      <th>1</th>\n",
       "      <td>A664235</td>\n",
       "      <td>NaN</td>\n",
       "      <td>2013-10-01T08:33:00.000</td>\n",
       "      <td>2013-10-01T08:33:00.000</td>\n",
       "      <td>Abia in Austin (TX)</td>\n",
       "      <td>Stray</td>\n",
       "      <td>Normal</td>\n",
       "      <td>Cat</td>\n",
       "      <td>Unknown</td>\n",
       "      <td>1 week</td>\n",
       "      <td>Domestic Shorthair Mix</td>\n",
       "      <td>Orange/White</td>\n",
       "    </tr>\n",
       "    <tr>\n",
       "      <th>2</th>\n",
       "      <td>A664236</td>\n",
       "      <td>NaN</td>\n",
       "      <td>2013-10-01T08:33:00.000</td>\n",
       "      <td>2013-10-01T08:33:00.000</td>\n",
       "      <td>Abia in Austin (TX)</td>\n",
       "      <td>Stray</td>\n",
       "      <td>Normal</td>\n",
       "      <td>Cat</td>\n",
       "      <td>Unknown</td>\n",
       "      <td>1 week</td>\n",
       "      <td>Domestic Shorthair Mix</td>\n",
       "      <td>Orange/White</td>\n",
       "    </tr>\n",
       "    <tr>\n",
       "      <th>3</th>\n",
       "      <td>A664237</td>\n",
       "      <td>NaN</td>\n",
       "      <td>2013-10-01T08:33:00.000</td>\n",
       "      <td>2013-10-01T08:33:00.000</td>\n",
       "      <td>Abia in Austin (TX)</td>\n",
       "      <td>Stray</td>\n",
       "      <td>Normal</td>\n",
       "      <td>Cat</td>\n",
       "      <td>Unknown</td>\n",
       "      <td>1 week</td>\n",
       "      <td>Domestic Shorthair Mix</td>\n",
       "      <td>Orange/White</td>\n",
       "    </tr>\n",
       "    <tr>\n",
       "      <th>4</th>\n",
       "      <td>A664233</td>\n",
       "      <td>Stevie</td>\n",
       "      <td>2013-10-01T08:53:00.000</td>\n",
       "      <td>2013-10-01T08:53:00.000</td>\n",
       "      <td>7405 Springtime in Austin (TX)</td>\n",
       "      <td>Stray</td>\n",
       "      <td>Injured</td>\n",
       "      <td>Dog</td>\n",
       "      <td>Intact Female</td>\n",
       "      <td>3 years</td>\n",
       "      <td>Pit Bull Mix</td>\n",
       "      <td>Blue/White</td>\n",
       "    </tr>\n",
       "  </tbody>\n",
       "</table>\n",
       "</div>"
      ],
      "text/plain": [
       "  animal_id    name                 datetime                datetime2  \\\n",
       "0   A521520    Nina  2013-10-01T07:51:00.000  2013-10-01T07:51:00.000   \n",
       "1   A664235     NaN  2013-10-01T08:33:00.000  2013-10-01T08:33:00.000   \n",
       "2   A664236     NaN  2013-10-01T08:33:00.000  2013-10-01T08:33:00.000   \n",
       "3   A664237     NaN  2013-10-01T08:33:00.000  2013-10-01T08:33:00.000   \n",
       "4   A664233  Stevie  2013-10-01T08:53:00.000  2013-10-01T08:53:00.000   \n",
       "\n",
       "                   found_location intake_type intake_condition animal_type  \\\n",
       "0         Norht Ec in Austin (TX)       Stray           Normal         Dog   \n",
       "1             Abia in Austin (TX)       Stray           Normal         Cat   \n",
       "2             Abia in Austin (TX)       Stray           Normal         Cat   \n",
       "3             Abia in Austin (TX)       Stray           Normal         Cat   \n",
       "4  7405 Springtime in Austin (TX)       Stray          Injured         Dog   \n",
       "\n",
       "  sex_upon_intake age_upon_intake                         breed         color  \n",
       "0   Spayed Female         7 years  Border Terrier/Border Collie     White/Tan  \n",
       "1         Unknown          1 week        Domestic Shorthair Mix  Orange/White  \n",
       "2         Unknown          1 week        Domestic Shorthair Mix  Orange/White  \n",
       "3         Unknown          1 week        Domestic Shorthair Mix  Orange/White  \n",
       "4   Intact Female         3 years                  Pit Bull Mix    Blue/White  "
      ]
     },
     "execution_count": 5,
     "metadata": {},
     "output_type": "execute_result"
    }
   ],
   "source": [
    "df_intakes.head()"
   ]
  },
  {
   "cell_type": "markdown",
   "id": "5aae140d",
   "metadata": {},
   "source": [
    "## Outcome data"
   ]
  },
  {
   "cell_type": "markdown",
   "id": "6fc9f04e",
   "metadata": {},
   "source": [
    "### Data url"
   ]
  },
  {
   "cell_type": "code",
   "execution_count": 6,
   "id": "3dc6fdfc",
   "metadata": {},
   "outputs": [],
   "source": [
    "outcome_url = \"https://data.austintexas.gov/resource/9t4d-g238.csv?$limit=500000\""
   ]
  },
  {
   "cell_type": "markdown",
   "id": "1914c3f8",
   "metadata": {},
   "source": [
    "### Data pull"
   ]
  },
  {
   "cell_type": "code",
   "execution_count": 7,
   "id": "b074bf74",
   "metadata": {},
   "outputs": [],
   "source": [
    "df_outcomes = pd.read_csv(outcome_url)"
   ]
  },
  {
   "cell_type": "markdown",
   "id": "7c012c50",
   "metadata": {},
   "source": [
    "### Data preview"
   ]
  },
  {
   "cell_type": "code",
   "execution_count": 8,
   "id": "46a11173",
   "metadata": {},
   "outputs": [
    {
     "data": {
      "text/html": [
       "<div>\n",
       "<style scoped>\n",
       "    .dataframe tbody tr th:only-of-type {\n",
       "        vertical-align: middle;\n",
       "    }\n",
       "\n",
       "    .dataframe tbody tr th {\n",
       "        vertical-align: top;\n",
       "    }\n",
       "\n",
       "    .dataframe thead th {\n",
       "        text-align: right;\n",
       "    }\n",
       "</style>\n",
       "<table border=\"1\" class=\"dataframe\">\n",
       "  <thead>\n",
       "    <tr style=\"text-align: right;\">\n",
       "      <th></th>\n",
       "      <th>animal_id</th>\n",
       "      <th>date_of_birth</th>\n",
       "      <th>name</th>\n",
       "      <th>datetime</th>\n",
       "      <th>monthyear</th>\n",
       "      <th>outcome_type</th>\n",
       "      <th>outcome_subtype</th>\n",
       "      <th>animal_type</th>\n",
       "      <th>sex_upon_outcome</th>\n",
       "      <th>age_upon_outcome</th>\n",
       "      <th>breed</th>\n",
       "      <th>color</th>\n",
       "    </tr>\n",
       "  </thead>\n",
       "  <tbody>\n",
       "    <tr>\n",
       "      <th>0</th>\n",
       "      <td>A668305</td>\n",
       "      <td>2012-12-01</td>\n",
       "      <td>NaN</td>\n",
       "      <td>2013-12-02T00:00:00-05:00</td>\n",
       "      <td>12-2013</td>\n",
       "      <td>Transfer</td>\n",
       "      <td>Partner</td>\n",
       "      <td>Other</td>\n",
       "      <td>Unknown</td>\n",
       "      <td>1 year</td>\n",
       "      <td>Turtle Mix</td>\n",
       "      <td>Brown/Yellow</td>\n",
       "    </tr>\n",
       "    <tr>\n",
       "      <th>1</th>\n",
       "      <td>A673335</td>\n",
       "      <td>2012-02-22</td>\n",
       "      <td>NaN</td>\n",
       "      <td>2014-02-22T00:00:00-05:00</td>\n",
       "      <td>02-2014</td>\n",
       "      <td>Euthanasia</td>\n",
       "      <td>Suffering</td>\n",
       "      <td>Other</td>\n",
       "      <td>Unknown</td>\n",
       "      <td>2 years</td>\n",
       "      <td>Raccoon</td>\n",
       "      <td>Black/Gray</td>\n",
       "    </tr>\n",
       "    <tr>\n",
       "      <th>2</th>\n",
       "      <td>A675999</td>\n",
       "      <td>2013-04-03</td>\n",
       "      <td>NaN</td>\n",
       "      <td>2014-04-07T00:00:00-05:00</td>\n",
       "      <td>04-2014</td>\n",
       "      <td>Transfer</td>\n",
       "      <td>Partner</td>\n",
       "      <td>Other</td>\n",
       "      <td>Unknown</td>\n",
       "      <td>1 year</td>\n",
       "      <td>Turtle Mix</td>\n",
       "      <td>Green</td>\n",
       "    </tr>\n",
       "    <tr>\n",
       "      <th>3</th>\n",
       "      <td>A679066</td>\n",
       "      <td>2014-04-16</td>\n",
       "      <td>NaN</td>\n",
       "      <td>2014-05-16T00:00:00-05:00</td>\n",
       "      <td>05-2014</td>\n",
       "      <td>NaN</td>\n",
       "      <td>NaN</td>\n",
       "      <td>Other</td>\n",
       "      <td>Unknown</td>\n",
       "      <td>4 weeks</td>\n",
       "      <td>Rabbit Sh</td>\n",
       "      <td>Brown</td>\n",
       "    </tr>\n",
       "    <tr>\n",
       "      <th>4</th>\n",
       "      <td>A680855</td>\n",
       "      <td>2014-05-25</td>\n",
       "      <td>NaN</td>\n",
       "      <td>2014-06-10T00:00:00-05:00</td>\n",
       "      <td>06-2014</td>\n",
       "      <td>Transfer</td>\n",
       "      <td>Partner</td>\n",
       "      <td>Bird</td>\n",
       "      <td>Unknown</td>\n",
       "      <td>2 weeks</td>\n",
       "      <td>Duck</td>\n",
       "      <td>Yellow/Black</td>\n",
       "    </tr>\n",
       "    <tr>\n",
       "      <th>5</th>\n",
       "      <td>A680857</td>\n",
       "      <td>2014-05-25</td>\n",
       "      <td>NaN</td>\n",
       "      <td>2014-06-10T00:00:00-05:00</td>\n",
       "      <td>06-2014</td>\n",
       "      <td>Transfer</td>\n",
       "      <td>Partner</td>\n",
       "      <td>Bird</td>\n",
       "      <td>Unknown</td>\n",
       "      <td>2 weeks</td>\n",
       "      <td>Duck</td>\n",
       "      <td>Yellow/Black</td>\n",
       "    </tr>\n",
       "    <tr>\n",
       "      <th>6</th>\n",
       "      <td>A680858</td>\n",
       "      <td>2014-05-25</td>\n",
       "      <td>NaN</td>\n",
       "      <td>2014-06-10T00:00:00-05:00</td>\n",
       "      <td>06-2014</td>\n",
       "      <td>Transfer</td>\n",
       "      <td>Partner</td>\n",
       "      <td>Bird</td>\n",
       "      <td>Unknown</td>\n",
       "      <td>2 weeks</td>\n",
       "      <td>Duck</td>\n",
       "      <td>Yellow/Black</td>\n",
       "    </tr>\n",
       "    <tr>\n",
       "      <th>7</th>\n",
       "      <td>A680859</td>\n",
       "      <td>2014-05-25</td>\n",
       "      <td>NaN</td>\n",
       "      <td>2014-06-10T00:00:00-05:00</td>\n",
       "      <td>06-2014</td>\n",
       "      <td>Transfer</td>\n",
       "      <td>Partner</td>\n",
       "      <td>Bird</td>\n",
       "      <td>Unknown</td>\n",
       "      <td>2 weeks</td>\n",
       "      <td>Duck</td>\n",
       "      <td>Yellow/Black</td>\n",
       "    </tr>\n",
       "    <tr>\n",
       "      <th>8</th>\n",
       "      <td>A680860</td>\n",
       "      <td>2014-05-25</td>\n",
       "      <td>NaN</td>\n",
       "      <td>2014-06-10T00:00:00-05:00</td>\n",
       "      <td>06-2014</td>\n",
       "      <td>Transfer</td>\n",
       "      <td>Partner</td>\n",
       "      <td>Bird</td>\n",
       "      <td>Unknown</td>\n",
       "      <td>2 weeks</td>\n",
       "      <td>Duck</td>\n",
       "      <td>Yellow/Black</td>\n",
       "    </tr>\n",
       "    <tr>\n",
       "      <th>9</th>\n",
       "      <td>A680861</td>\n",
       "      <td>2014-05-25</td>\n",
       "      <td>NaN</td>\n",
       "      <td>2014-06-10T00:00:00-05:00</td>\n",
       "      <td>06-2014</td>\n",
       "      <td>Transfer</td>\n",
       "      <td>Partner</td>\n",
       "      <td>Bird</td>\n",
       "      <td>Unknown</td>\n",
       "      <td>2 weeks</td>\n",
       "      <td>Duck</td>\n",
       "      <td>Yellow/Black</td>\n",
       "    </tr>\n",
       "    <tr>\n",
       "      <th>10</th>\n",
       "      <td>A680862</td>\n",
       "      <td>2014-05-25</td>\n",
       "      <td>NaN</td>\n",
       "      <td>2014-06-10T00:00:00-05:00</td>\n",
       "      <td>06-2014</td>\n",
       "      <td>Transfer</td>\n",
       "      <td>Partner</td>\n",
       "      <td>Bird</td>\n",
       "      <td>Unknown</td>\n",
       "      <td>2 weeks</td>\n",
       "      <td>Duck</td>\n",
       "      <td>Yellow/Black</td>\n",
       "    </tr>\n",
       "    <tr>\n",
       "      <th>11</th>\n",
       "      <td>A680863</td>\n",
       "      <td>2014-05-25</td>\n",
       "      <td>NaN</td>\n",
       "      <td>2014-06-10T00:00:00-05:00</td>\n",
       "      <td>06-2014</td>\n",
       "      <td>Transfer</td>\n",
       "      <td>Partner</td>\n",
       "      <td>Bird</td>\n",
       "      <td>Unknown</td>\n",
       "      <td>2 weeks</td>\n",
       "      <td>Duck</td>\n",
       "      <td>Yellow/Black</td>\n",
       "    </tr>\n",
       "    <tr>\n",
       "      <th>12</th>\n",
       "      <td>A683090</td>\n",
       "      <td>2014-04-22</td>\n",
       "      <td>Jenny Tyson</td>\n",
       "      <td>2014-07-11T00:00:00-05:00</td>\n",
       "      <td>07-2014</td>\n",
       "      <td>Adoption</td>\n",
       "      <td>NaN</td>\n",
       "      <td>Dog</td>\n",
       "      <td>Spayed Female</td>\n",
       "      <td>2 months</td>\n",
       "      <td>Black Mouth Cur Mix</td>\n",
       "      <td>Brown/Black</td>\n",
       "    </tr>\n",
       "    <tr>\n",
       "      <th>13</th>\n",
       "      <td>A683591</td>\n",
       "      <td>2014-06-12</td>\n",
       "      <td>NaN</td>\n",
       "      <td>2014-07-12T00:00:00-05:00</td>\n",
       "      <td>07-2014</td>\n",
       "      <td>Transfer</td>\n",
       "      <td>Partner</td>\n",
       "      <td>Bird</td>\n",
       "      <td>Unknown</td>\n",
       "      <td>4 weeks</td>\n",
       "      <td>Catbird Mix</td>\n",
       "      <td>Brown</td>\n",
       "    </tr>\n",
       "    <tr>\n",
       "      <th>14</th>\n",
       "      <td>A683693</td>\n",
       "      <td>2014-06-29</td>\n",
       "      <td>NaN</td>\n",
       "      <td>2014-07-14T00:00:00-05:00</td>\n",
       "      <td>07-2014</td>\n",
       "      <td>Transfer</td>\n",
       "      <td>Partner</td>\n",
       "      <td>Bird</td>\n",
       "      <td>Unknown</td>\n",
       "      <td>2 weeks</td>\n",
       "      <td>Grackle Mix</td>\n",
       "      <td>Black/White</td>\n",
       "    </tr>\n",
       "    <tr>\n",
       "      <th>15</th>\n",
       "      <td>A686222</td>\n",
       "      <td>2014-03-13</td>\n",
       "      <td>NaN</td>\n",
       "      <td>2014-08-20T00:00:00-05:00</td>\n",
       "      <td>08-2014</td>\n",
       "      <td>Transfer</td>\n",
       "      <td>Partner</td>\n",
       "      <td>Bird</td>\n",
       "      <td>Intact Male</td>\n",
       "      <td>5 months</td>\n",
       "      <td>Silkie Mix</td>\n",
       "      <td>Black</td>\n",
       "    </tr>\n",
       "    <tr>\n",
       "      <th>16</th>\n",
       "      <td>A688001</td>\n",
       "      <td>2014-07-12</td>\n",
       "      <td>NaN</td>\n",
       "      <td>2014-09-16T00:00:00-05:00</td>\n",
       "      <td>09-2014</td>\n",
       "      <td>Transfer</td>\n",
       "      <td>Partner</td>\n",
       "      <td>Bird</td>\n",
       "      <td>Unknown</td>\n",
       "      <td>2 months</td>\n",
       "      <td>Bantam Mix</td>\n",
       "      <td>White</td>\n",
       "    </tr>\n",
       "    <tr>\n",
       "      <th>17</th>\n",
       "      <td>A688002</td>\n",
       "      <td>2014-07-12</td>\n",
       "      <td>NaN</td>\n",
       "      <td>2014-09-16T00:00:00-05:00</td>\n",
       "      <td>09-2014</td>\n",
       "      <td>Transfer</td>\n",
       "      <td>Partner</td>\n",
       "      <td>Bird</td>\n",
       "      <td>Unknown</td>\n",
       "      <td>2 months</td>\n",
       "      <td>Bantam Mix</td>\n",
       "      <td>White</td>\n",
       "    </tr>\n",
       "    <tr>\n",
       "      <th>18</th>\n",
       "      <td>A687621</td>\n",
       "      <td>2014-03-07</td>\n",
       "      <td>NaN</td>\n",
       "      <td>2014-09-16T00:00:00-05:00</td>\n",
       "      <td>09-2014</td>\n",
       "      <td>Transfer</td>\n",
       "      <td>Partner</td>\n",
       "      <td>Bird</td>\n",
       "      <td>Unknown</td>\n",
       "      <td>6 months</td>\n",
       "      <td>Chicken Mix</td>\n",
       "      <td>Brown</td>\n",
       "    </tr>\n",
       "    <tr>\n",
       "      <th>19</th>\n",
       "      <td>A687622</td>\n",
       "      <td>2014-03-07</td>\n",
       "      <td>NaN</td>\n",
       "      <td>2014-09-16T00:00:00-05:00</td>\n",
       "      <td>09-2014</td>\n",
       "      <td>Transfer</td>\n",
       "      <td>Partner</td>\n",
       "      <td>Bird</td>\n",
       "      <td>Unknown</td>\n",
       "      <td>6 months</td>\n",
       "      <td>Chicken Mix</td>\n",
       "      <td>Brown</td>\n",
       "    </tr>\n",
       "  </tbody>\n",
       "</table>\n",
       "</div>"
      ],
      "text/plain": [
       "   animal_id date_of_birth         name                   datetime monthyear  \\\n",
       "0    A668305    2012-12-01          NaN  2013-12-02T00:00:00-05:00   12-2013   \n",
       "1    A673335    2012-02-22          NaN  2014-02-22T00:00:00-05:00   02-2014   \n",
       "2    A675999    2013-04-03          NaN  2014-04-07T00:00:00-05:00   04-2014   \n",
       "3    A679066    2014-04-16          NaN  2014-05-16T00:00:00-05:00   05-2014   \n",
       "4    A680855    2014-05-25          NaN  2014-06-10T00:00:00-05:00   06-2014   \n",
       "5    A680857    2014-05-25          NaN  2014-06-10T00:00:00-05:00   06-2014   \n",
       "6    A680858    2014-05-25          NaN  2014-06-10T00:00:00-05:00   06-2014   \n",
       "7    A680859    2014-05-25          NaN  2014-06-10T00:00:00-05:00   06-2014   \n",
       "8    A680860    2014-05-25          NaN  2014-06-10T00:00:00-05:00   06-2014   \n",
       "9    A680861    2014-05-25          NaN  2014-06-10T00:00:00-05:00   06-2014   \n",
       "10   A680862    2014-05-25          NaN  2014-06-10T00:00:00-05:00   06-2014   \n",
       "11   A680863    2014-05-25          NaN  2014-06-10T00:00:00-05:00   06-2014   \n",
       "12   A683090    2014-04-22  Jenny Tyson  2014-07-11T00:00:00-05:00   07-2014   \n",
       "13   A683591    2014-06-12          NaN  2014-07-12T00:00:00-05:00   07-2014   \n",
       "14   A683693    2014-06-29          NaN  2014-07-14T00:00:00-05:00   07-2014   \n",
       "15   A686222    2014-03-13          NaN  2014-08-20T00:00:00-05:00   08-2014   \n",
       "16   A688001    2014-07-12          NaN  2014-09-16T00:00:00-05:00   09-2014   \n",
       "17   A688002    2014-07-12          NaN  2014-09-16T00:00:00-05:00   09-2014   \n",
       "18   A687621    2014-03-07          NaN  2014-09-16T00:00:00-05:00   09-2014   \n",
       "19   A687622    2014-03-07          NaN  2014-09-16T00:00:00-05:00   09-2014   \n",
       "\n",
       "   outcome_type outcome_subtype animal_type sex_upon_outcome age_upon_outcome  \\\n",
       "0      Transfer         Partner       Other          Unknown           1 year   \n",
       "1    Euthanasia       Suffering       Other          Unknown          2 years   \n",
       "2      Transfer         Partner       Other          Unknown           1 year   \n",
       "3           NaN             NaN       Other          Unknown          4 weeks   \n",
       "4      Transfer         Partner        Bird          Unknown          2 weeks   \n",
       "5      Transfer         Partner        Bird          Unknown          2 weeks   \n",
       "6      Transfer         Partner        Bird          Unknown          2 weeks   \n",
       "7      Transfer         Partner        Bird          Unknown          2 weeks   \n",
       "8      Transfer         Partner        Bird          Unknown          2 weeks   \n",
       "9      Transfer         Partner        Bird          Unknown          2 weeks   \n",
       "10     Transfer         Partner        Bird          Unknown          2 weeks   \n",
       "11     Transfer         Partner        Bird          Unknown          2 weeks   \n",
       "12     Adoption             NaN         Dog    Spayed Female         2 months   \n",
       "13     Transfer         Partner        Bird          Unknown          4 weeks   \n",
       "14     Transfer         Partner        Bird          Unknown          2 weeks   \n",
       "15     Transfer         Partner        Bird      Intact Male         5 months   \n",
       "16     Transfer         Partner        Bird          Unknown         2 months   \n",
       "17     Transfer         Partner        Bird          Unknown         2 months   \n",
       "18     Transfer         Partner        Bird          Unknown         6 months   \n",
       "19     Transfer         Partner        Bird          Unknown         6 months   \n",
       "\n",
       "                  breed         color  \n",
       "0            Turtle Mix  Brown/Yellow  \n",
       "1               Raccoon    Black/Gray  \n",
       "2            Turtle Mix         Green  \n",
       "3             Rabbit Sh         Brown  \n",
       "4                  Duck  Yellow/Black  \n",
       "5                  Duck  Yellow/Black  \n",
       "6                  Duck  Yellow/Black  \n",
       "7                  Duck  Yellow/Black  \n",
       "8                  Duck  Yellow/Black  \n",
       "9                  Duck  Yellow/Black  \n",
       "10                 Duck  Yellow/Black  \n",
       "11                 Duck  Yellow/Black  \n",
       "12  Black Mouth Cur Mix   Brown/Black  \n",
       "13          Catbird Mix         Brown  \n",
       "14          Grackle Mix   Black/White  \n",
       "15           Silkie Mix         Black  \n",
       "16           Bantam Mix         White  \n",
       "17           Bantam Mix         White  \n",
       "18          Chicken Mix         Brown  \n",
       "19          Chicken Mix         Brown  "
      ]
     },
     "execution_count": 8,
     "metadata": {},
     "output_type": "execute_result"
    }
   ],
   "source": [
    "df_outcomes.head(20)"
   ]
  },
  {
   "cell_type": "markdown",
   "id": "d22a7a0a",
   "metadata": {},
   "source": [
    "# EDA"
   ]
  },
  {
   "cell_type": "markdown",
   "id": "448c9c52",
   "metadata": {},
   "source": [
    "## Missing values in intakes"
   ]
  },
  {
   "cell_type": "code",
   "execution_count": 9,
   "id": "0949a882",
   "metadata": {},
   "outputs": [
    {
     "name": "stdout",
     "output_type": "stream",
     "text": [
      "Missing values in df_intakes:\n",
      " animal_id               0\n",
      "name                49991\n",
      "datetime                0\n",
      "datetime2               0\n",
      "found_location          0\n",
      "intake_type             0\n",
      "intake_condition        0\n",
      "animal_type             0\n",
      "sex_upon_intake         1\n",
      "age_upon_intake         0\n",
      "breed                   0\n",
      "color                   0\n",
      "dtype: int64\n"
     ]
    }
   ],
   "source": [
    "# Check for missing values in df_outcomes\n",
    "missing_values = df_intakes.isnull().sum()\n",
    "print(\"Missing values in df_intakes:\\n\", missing_values)"
   ]
  },
  {
   "cell_type": "markdown",
   "id": "d8366e72",
   "metadata": {},
   "source": [
    "## Missing values in outcomes"
   ]
  },
  {
   "cell_type": "code",
   "execution_count": 10,
   "id": "a53ce188",
   "metadata": {},
   "outputs": [
    {
     "name": "stdout",
     "output_type": "stream",
     "text": [
      "Missing values in df_outcomes:\n",
      " animal_id               0\n",
      "date_of_birth           0\n",
      "name                49784\n",
      "datetime                0\n",
      "monthyear               0\n",
      "outcome_type           46\n",
      "outcome_subtype     94115\n",
      "animal_type             0\n",
      "sex_upon_outcome        1\n",
      "age_upon_outcome        9\n",
      "breed                   0\n",
      "color                   0\n",
      "dtype: int64\n"
     ]
    }
   ],
   "source": [
    "# Check for missing values in df_outcomes\n",
    "missing_values = df_outcomes.isnull().sum()\n",
    "print(\"Missing values in df_outcomes:\\n\", missing_values)"
   ]
  },
  {
   "cell_type": "markdown",
   "id": "dcb128b6",
   "metadata": {},
   "source": [
    "## Unique values in color"
   ]
  },
  {
   "cell_type": "code",
   "execution_count": 11,
   "id": "5cda19d6",
   "metadata": {},
   "outputs": [
    {
     "data": {
      "text/plain": [
       "661"
      ]
     },
     "execution_count": 11,
     "metadata": {},
     "output_type": "execute_result"
    }
   ],
   "source": [
    "df_intakes['color'].nunique()"
   ]
  },
  {
   "cell_type": "code",
   "execution_count": 12,
   "id": "4eeb7737",
   "metadata": {},
   "outputs": [
    {
     "data": {
      "text/plain": [
       "663"
      ]
     },
     "execution_count": 12,
     "metadata": {},
     "output_type": "execute_result"
    }
   ],
   "source": [
    "df_outcomes['color'].nunique()"
   ]
  },
  {
   "cell_type": "markdown",
   "id": "45d541bb",
   "metadata": {},
   "source": [
    "High cardinality exists here"
   ]
  },
  {
   "cell_type": "markdown",
   "id": "fe49111f",
   "metadata": {},
   "source": [
    "## Unique values in found_location"
   ]
  },
  {
   "cell_type": "code",
   "execution_count": 13,
   "id": "fd4bbc9e",
   "metadata": {},
   "outputs": [
    {
     "data": {
      "text/plain": [
       "70183"
      ]
     },
     "execution_count": 13,
     "metadata": {},
     "output_type": "execute_result"
    }
   ],
   "source": [
    "df_intakes['found_location'].nunique()"
   ]
  },
  {
   "cell_type": "markdown",
   "id": "eb0cb4b3",
   "metadata": {},
   "source": [
    "High cardinality exists here"
   ]
  },
  {
   "cell_type": "markdown",
   "id": "ee3ef654",
   "metadata": {},
   "source": [
    "## Unique values in breed"
   ]
  },
  {
   "cell_type": "code",
   "execution_count": 14,
   "id": "74a31123",
   "metadata": {},
   "outputs": [
    {
     "data": {
      "text/plain": [
       "3006"
      ]
     },
     "execution_count": 14,
     "metadata": {},
     "output_type": "execute_result"
    }
   ],
   "source": [
    "df_intakes['breed'].nunique()"
   ]
  },
  {
   "cell_type": "code",
   "execution_count": 15,
   "id": "7a62ed27",
   "metadata": {},
   "outputs": [
    {
     "data": {
      "text/plain": [
       "3010"
      ]
     },
     "execution_count": 15,
     "metadata": {},
     "output_type": "execute_result"
    }
   ],
   "source": [
    "df_outcomes['breed'].nunique()"
   ]
  },
  {
   "cell_type": "markdown",
   "id": "e67d697c",
   "metadata": {},
   "source": [
    "High cardinality here too"
   ]
  },
  {
   "cell_type": "markdown",
   "id": "124a5488",
   "metadata": {},
   "source": [
    "# Preprocessing"
   ]
  },
  {
   "cell_type": "markdown",
   "id": "a93f00ab",
   "metadata": {},
   "source": [
    "## Fix datetime column"
   ]
  },
  {
   "cell_type": "markdown",
   "id": "79a47c49",
   "metadata": {},
   "source": [
    "### Intakes"
   ]
  },
  {
   "cell_type": "code",
   "execution_count": 16,
   "id": "80e323a7",
   "metadata": {},
   "outputs": [],
   "source": [
    "df_intakes['datetime'] = pd.to_datetime(df_intakes['datetime'])"
   ]
  },
  {
   "cell_type": "code",
   "execution_count": 17,
   "id": "b776443e",
   "metadata": {},
   "outputs": [],
   "source": [
    "df_intakes['monthyear'] = pd.to_datetime(df_intakes['datetime2']).dt.strftime('%m-%Y')"
   ]
  },
  {
   "cell_type": "code",
   "execution_count": 18,
   "id": "a6c913bc",
   "metadata": {},
   "outputs": [],
   "source": [
    "df_intakes = df_intakes.drop(columns=['datetime2'])"
   ]
  },
  {
   "cell_type": "markdown",
   "id": "18213d9e",
   "metadata": {},
   "source": [
    "### Outcomes"
   ]
  },
  {
   "cell_type": "code",
   "execution_count": 19,
   "id": "3a1cddca",
   "metadata": {},
   "outputs": [],
   "source": [
    "df_outcomes['date_of_birth'] = pd.to_datetime(df_outcomes['date_of_birth'])\n",
    "df_outcomes['monthyear'] = pd.to_datetime(df_outcomes['monthyear'], format='%m-%Y')"
   ]
  },
  {
   "cell_type": "code",
   "execution_count": 20,
   "id": "f43a1858",
   "metadata": {},
   "outputs": [],
   "source": [
    "df_outcomes['datetime'] = pd.to_datetime(df_outcomes['datetime'], format='mixed', utc=True)"
   ]
  },
  {
   "cell_type": "markdown",
   "id": "01d27028",
   "metadata": {},
   "source": [
    "## Dropping null values from both dataframes\n",
    "\n",
    "For **df_intakes**, missing names can be handled later in a binary variable, while, variables like *sex_upon_intake* will need to be omitted from the analysis.\n",
    "\n",
    "For **df_outcomes**, missing values in age and sex will be omitted. "
   ]
  },
  {
   "cell_type": "code",
   "execution_count": 21,
   "id": "a731a63b",
   "metadata": {},
   "outputs": [],
   "source": [
    "df_intakes = df_intakes.dropna(subset=['sex_upon_intake'])"
   ]
  },
  {
   "cell_type": "code",
   "execution_count": 22,
   "id": "7150dcf5",
   "metadata": {},
   "outputs": [],
   "source": [
    "df_outcomes = df_outcomes.dropna(subset=['outcome_type', 'sex_upon_outcome', 'age_upon_outcome'])"
   ]
  },
  {
   "cell_type": "markdown",
   "id": "e3a3f20c",
   "metadata": {},
   "source": [
    "## Combining both dataframes into one"
   ]
  },
  {
   "cell_type": "markdown",
   "id": "75d67baf",
   "metadata": {},
   "source": [
    "### First, sort by date"
   ]
  },
  {
   "cell_type": "code",
   "execution_count": 23,
   "id": "463e5571",
   "metadata": {},
   "outputs": [],
   "source": [
    "df_intakes_sorted = df_intakes.sort_values('datetime')\n",
    "df_outcomes_sorted = df_outcomes.sort_values('datetime')"
   ]
  },
  {
   "cell_type": "markdown",
   "id": "9313570a",
   "metadata": {},
   "source": [
    "### Combine both dataframes into one"
   ]
  },
  {
   "cell_type": "code",
   "execution_count": 24,
   "id": "de030478",
   "metadata": {},
   "outputs": [],
   "source": [
    "combined_df = pd.merge(df_intakes_sorted, df_outcomes_sorted, on='animal_id', suffixes=('_intake', '_outcome'), how='inner')"
   ]
  },
  {
   "cell_type": "markdown",
   "id": "dcb3df06",
   "metadata": {},
   "source": [
    "## Age variable fix"
   ]
  },
  {
   "cell_type": "code",
   "execution_count": 25,
   "id": "fbdf480c",
   "metadata": {},
   "outputs": [],
   "source": [
    "def convert_age_to_days(age_str, name_str=None):\n",
    "    \"\"\"Convert age string to numeric days\"\"\"\n",
    "    if pd.isna(age_str):\n",
    "        return None\n",
    "    \n",
    "    age_str = age_str.lower()\n",
    "    \n",
    "    # Handle \"0 years\" case - check if newborn based on name containing \"grams\"\n",
    "    if age_str.strip() == \"0 years\":\n",
    "        if name_str and \"grams\" in str(name_str).lower():\n",
    "            return 0  # Newborn\n",
    "        else:\n",
    "            return None  # Missing age data\n",
    "    \n",
    "    total_days = 0\n",
    "    \n",
    "    # Find all number-unit pairs\n",
    "    patterns = [\n",
    "        (r'(\\d+)\\s*year', 365),\n",
    "        (r'(\\d+)\\s*month', 30),\n",
    "        (r'(\\d+)\\s*week', 7),\n",
    "        (r'(\\d+)\\s*day', 1)\n",
    "    ]\n",
    "    \n",
    "    for pattern, multiplier in patterns:\n",
    "        matches = re.findall(pattern, age_str)\n",
    "        for match in matches:\n",
    "            total_days += int(match) * multiplier\n",
    "    \n",
    "    return total_days if total_days > 0 else None\n",
    "\n",
    "def convert_age_to_years(age_str, name_str=None):\n",
    "    \"\"\"Convert age string to numeric years (decimal)\"\"\"\n",
    "    days = convert_age_to_days(age_str, name_str)\n",
    "    return days / 365 if days is not None else None"
   ]
  },
  {
   "cell_type": "code",
   "execution_count": 26,
   "id": "5721bb0f",
   "metadata": {},
   "outputs": [],
   "source": [
    "df_intakes['age_upon_intake_days'] = df_intakes.apply(lambda row: convert_age_to_days(row['age_upon_intake'], row.get('name')), axis=1)\n",
    "df_intakes['age_upon_intake_years'] = df_intakes.apply(lambda row: convert_age_to_years(row['age_upon_intake'], row.get('name')), axis=1)\n",
    "\n",
    "df_outcomes['age_upon_outcome_days'] = df_outcomes.apply(lambda row: convert_age_to_days(row['age_upon_outcome'], row.get('name')), axis=1)\n",
    "df_outcomes['age_upon_outcome_years'] = df_outcomes.apply(lambda row: convert_age_to_years(row['age_upon_outcome'], row.get('name')), axis=1)\n"
   ]
  },
  {
   "cell_type": "code",
   "execution_count": 27,
   "id": "298004a2",
   "metadata": {},
   "outputs": [
    {
     "name": "stdout",
     "output_type": "stream",
     "text": [
      "Sample conversions:\n",
      "7 years -> 2555 days, 7.00 years\n",
      "2 weeks -> 14 days, 0.04 years\n",
      "5 months -> 150 days, 0.41 years\n",
      "10 days -> 10 days, 0.03 years\n"
     ]
    }
   ],
   "source": [
    "print(\"Sample conversions:\")\n",
    "test_ages = [\"7 years\", \"2 weeks\", \"5 months\", \"10 days\"]\n",
    "for age in test_ages:\n",
    "    print(f\"{age} -> {convert_age_to_days(age)} days, {convert_age_to_years(age):.2f} years\")"
   ]
  },
  {
   "cell_type": "code",
   "execution_count": 39,
   "id": "f944303b",
   "metadata": {},
   "outputs": [],
   "source": [
    "combined_df['age_upon_outcome_days'] = combined_df.apply(lambda row: convert_age_to_days(row['age_upon_outcome'], row.get('name')), axis=1)\n",
    "combined_df['age_upon_outcome_years'] = combined_df.apply(lambda row: convert_age_to_years(row['age_upon_outcome'], row.get('name')), axis=1)\n",
    "\n",
    "combined_df['age_upon_intake_days'] = combined_df.apply(lambda row: convert_age_to_days(row['age_upon_intake'], row.get('name')), axis=1)\n",
    "combined_df['age_upon_intake_years'] = combined_df.apply(lambda row: convert_age_to_years(row['age_upon_intake'], row.get('name')), axis=1)"
   ]
  },
  {
   "cell_type": "code",
   "execution_count": 40,
   "id": "8e25d22e",
   "metadata": {},
   "outputs": [
    {
     "data": {
      "text/plain": [
       "animal_id                      0\n",
       "name_intake                50645\n",
       "datetime_intake                0\n",
       "found_location                 0\n",
       "intake_type                    0\n",
       "intake_condition               0\n",
       "animal_type_intake             0\n",
       "sex_upon_intake                0\n",
       "age_upon_intake                0\n",
       "breed_intake                   0\n",
       "color_intake                   0\n",
       "monthyear_intake               0\n",
       "date_of_birth                  0\n",
       "name_outcome               50645\n",
       "datetime_outcome               0\n",
       "monthyear_outcome              0\n",
       "outcome_type                   0\n",
       "outcome_subtype           133819\n",
       "animal_type_outcome            0\n",
       "sex_upon_outcome               0\n",
       "age_upon_outcome               0\n",
       "breed_outcome                  0\n",
       "color_outcome                  0\n",
       "age_upon_outcome_days        283\n",
       "age_upon_outcome_years       283\n",
       "age_upon_intake_days        1284\n",
       "age_upon_intake_years       1284\n",
       "dtype: int64"
      ]
     },
     "execution_count": 40,
     "metadata": {},
     "output_type": "execute_result"
    }
   ],
   "source": [
    "combined_df.isna().sum()"
   ]
  },
  {
   "cell_type": "code",
   "execution_count": 28,
   "id": "c8c81b0a",
   "metadata": {},
   "outputs": [
    {
     "data": {
      "text/plain": [
       "animal_id                     0\n",
       "date_of_birth                 0\n",
       "name                      49759\n",
       "datetime                      0\n",
       "monthyear                     0\n",
       "outcome_type                  0\n",
       "outcome_subtype           94070\n",
       "animal_type                   0\n",
       "sex_upon_outcome              0\n",
       "age_upon_outcome              0\n",
       "breed                         0\n",
       "color                         0\n",
       "age_upon_outcome_days       248\n",
       "age_upon_outcome_years      248\n",
       "dtype: int64"
      ]
     },
     "execution_count": 28,
     "metadata": {},
     "output_type": "execute_result"
    }
   ],
   "source": [
    "df_outcomes.isna().sum()"
   ]
  },
  {
   "cell_type": "code",
   "execution_count": 29,
   "id": "722524bd",
   "metadata": {},
   "outputs": [
    {
     "data": {
      "text/plain": [
       "animal_id                    0\n",
       "name                     49991\n",
       "datetime                     0\n",
       "found_location               0\n",
       "intake_type                  0\n",
       "intake_condition             0\n",
       "animal_type                  0\n",
       "sex_upon_intake              0\n",
       "age_upon_intake              0\n",
       "breed                        0\n",
       "color                        0\n",
       "monthyear                    0\n",
       "age_upon_intake_days      1236\n",
       "age_upon_intake_years     1236\n",
       "dtype: int64"
      ]
     },
     "execution_count": 29,
     "metadata": {},
     "output_type": "execute_result"
    }
   ],
   "source": [
    "df_intakes.isnull().sum()"
   ]
  },
  {
   "cell_type": "markdown",
   "id": "e5b44420",
   "metadata": {},
   "source": [
    "### Dropping null values for age upon intake & age upon outcome"
   ]
  },
  {
   "cell_type": "code",
   "execution_count": 30,
   "id": "fb6f5906",
   "metadata": {},
   "outputs": [],
   "source": [
    "df_intakes = df_intakes.dropna(subset=['age_upon_intake_days'])"
   ]
  },
  {
   "cell_type": "code",
   "execution_count": 31,
   "id": "9eef9a24",
   "metadata": {},
   "outputs": [],
   "source": [
    "df_outcomes = df_outcomes.dropna(subset=['age_upon_outcome_days'])"
   ]
  },
  {
   "cell_type": "markdown",
   "id": "2ba7ba5a",
   "metadata": {},
   "source": [
    "### Dropping age upon intake and age upon outcome columns"
   ]
  },
  {
   "cell_type": "code",
   "execution_count": 32,
   "id": "9ebb6171",
   "metadata": {},
   "outputs": [],
   "source": [
    "df_intakes = df_intakes.drop(columns=['age_upon_intake'])\n",
    "df_outcomes = df_outcomes.drop(columns=['age_upon_outcome'])"
   ]
  },
  {
   "cell_type": "code",
   "execution_count": null,
   "id": "7d9f3d5c",
   "metadata": {},
   "outputs": [],
   "source": [
    "# Null values in \n",
    "\n",
    "# 1. Check for null values in the dataset\n",
    "print(df_intakes.isnull().sum())\n",
    "\n",
    "# 2. Check for null values in the dataset\n",
    "print(df_outcomes.isnull().sum())"
   ]
  },
  {
   "cell_type": "markdown",
   "id": "c90b8446",
   "metadata": {},
   "source": [
    "## Breed variable fix"
   ]
  },
  {
   "cell_type": "code",
   "execution_count": 33,
   "id": "1bd6f18d",
   "metadata": {},
   "outputs": [],
   "source": [
    "def engineer_breed_features(df, breed_column='breed'):\n",
    "    \"\"\"Extract meaningful features from breed information\"\"\"\n",
    "    \n",
    "    # Create a copy to avoid modifying original\n",
    "    df = df.copy()\n",
    "    \n",
    "    # Animal type already exists, so skipping that classification\n",
    "    \n",
    "    # Mixed breed indicators\n",
    "    df['is_mixed'] = df[breed_column].str.contains('Mix|/', case=False, na=False)\n",
    "    df['num_breeds'] = df[breed_column].str.count('/') + 1\n",
    "    df['num_breeds'] = df['num_breeds'].where(df['is_mixed'], 1)\n",
    "    \n",
    "    # Size categories (based on common breed patterns)\n",
    "    toy_breeds = ['Chihuahua', 'Yorkshire', 'Toy', 'Maltese', 'Pomeranian', 'Papillon', 'Miniature']\n",
    "    small_breeds = ['Terrier', 'Beagle', 'Cocker', 'Dachshund', 'Corgi', 'Pug', 'Shih Tzu']\n",
    "    large_breeds = ['Retriever', 'Shepherd', 'Mastiff', 'Great Dane', 'Rottweiler', 'Great Pyrenees', 'Newfoundland']\n",
    "    \n",
    "    def categorize_size(breed_str):\n",
    "        if pd.isna(breed_str):\n",
    "            return 'Unknown'\n",
    "        breed_str = str(breed_str)\n",
    "        if any(toy in breed_str for toy in toy_breeds):\n",
    "            return 'Toy'\n",
    "        elif any(large in breed_str for large in large_breeds):\n",
    "            return 'Large'\n",
    "        elif any(small in breed_str for small in small_breeds):\n",
    "            return 'Small'\n",
    "        else:\n",
    "            return 'Medium'\n",
    "    \n",
    "    df['size_category'] = df[breed_column].apply(categorize_size)\n",
    "    \n",
    "    # Working/sport groups\n",
    "    working_breeds = ['Shepherd', 'Cattle Dog', 'Border Collie', 'Australian Kelpie', 'Husky', 'Malamute']\n",
    "    sporting_breeds = ['Retriever', 'Pointer', 'Spaniel', 'Setter', 'Vizsla']\n",
    "    terrier_breeds = ['Terrier']\n",
    "    \n",
    "    df['is_working'] = df[breed_column].str.contains('|'.join(working_breeds), case=False, na=False)\n",
    "    df['is_sporting'] = df[breed_column].str.contains('|'.join(sporting_breeds), case=False, na=False)\n",
    "    df['is_terrier'] = df[breed_column].str.contains('Terrier', case=False, na=False)\n",
    "    \n",
    "    # Popular breed indicators\n",
    "    popular_dog_breeds = ['Labrador', 'Golden Retriever', 'Pit Bull', 'Chihuahua', 'Beagle', 'German Shepherd']\n",
    "    popular_cat_breeds = ['Domestic Shorthair', 'Domestic Longhair', 'Siamese']\n",
    "    \n",
    "    df['is_popular_dog'] = df[breed_column].str.contains('|'.join(popular_dog_breeds), case=False, na=False)\n",
    "    df['is_popular_cat'] = df[breed_column].str.contains('|'.join(popular_cat_breeds), case=False, na=False)\n",
    "    \n",
    "    # Exotic/unusual animals\n",
    "    exotic_animals = ['Snake', 'Lizard', 'Turtle', 'Bird', 'Rabbit', 'Ferret', 'Pig', 'Goat', 'Chicken']\n",
    "    df['is_exotic'] = df[breed_column].str.contains('|'.join(exotic_animals), case=False, na=False)\n",
    "    \n",
    "    # Primary breed (for mixed breeds, take the first one)\n",
    "    def extract_primary_breed(breed_str):\n",
    "        if pd.isna(breed_str):\n",
    "            return None\n",
    "        breed_str = str(breed_str)\n",
    "        if '/' in breed_str:\n",
    "            return breed_str.split('/')[0].strip()\n",
    "        elif 'Mix' in breed_str:\n",
    "            return breed_str.replace(' Mix', '').strip()\n",
    "        else:\n",
    "            return breed_str.strip()\n",
    "    \n",
    "    df['primary_breed'] = df[breed_column].apply(extract_primary_breed)\n",
    "    \n",
    "    # Breed complexity score (more complex = more mixed)\n",
    "    df['breed_complexity'] = df['num_breeds'] + df['is_mixed'].astype(int)\n",
    "    \n",
    "    return df"
   ]
  },
  {
   "cell_type": "code",
   "execution_count": 43,
   "id": "86188a67",
   "metadata": {},
   "outputs": [],
   "source": [
    "combined_df = engineer_breed_features(combined_df, 'breed_outcome')"
   ]
  },
  {
   "cell_type": "code",
   "execution_count": 44,
   "id": "e6753c82",
   "metadata": {},
   "outputs": [
    {
     "name": "stdout",
     "output_type": "stream",
     "text": [
      "<class 'pandas.core.frame.DataFrame'>\n",
      "RangeIndex: 221168 entries, 0 to 221167\n",
      "Data columns (total 38 columns):\n",
      " #   Column                  Non-Null Count   Dtype              \n",
      "---  ------                  --------------   -----              \n",
      " 0   animal_id               221168 non-null  object             \n",
      " 1   name_intake             170523 non-null  object             \n",
      " 2   datetime_intake         221168 non-null  datetime64[ns]     \n",
      " 3   found_location          221168 non-null  object             \n",
      " 4   intake_type             221168 non-null  object             \n",
      " 5   intake_condition        221168 non-null  object             \n",
      " 6   animal_type_intake      221168 non-null  object             \n",
      " 7   sex_upon_intake         221168 non-null  object             \n",
      " 8   age_upon_intake         221168 non-null  object             \n",
      " 9   breed_intake            221168 non-null  object             \n",
      " 10  color_intake            221168 non-null  object             \n",
      " 11  monthyear_intake        221168 non-null  object             \n",
      " 12  date_of_birth           221168 non-null  datetime64[ns]     \n",
      " 13  name_outcome            170523 non-null  object             \n",
      " 14  datetime_outcome        221168 non-null  datetime64[ns, UTC]\n",
      " 15  monthyear_outcome       221168 non-null  datetime64[ns]     \n",
      " 16  outcome_type            221168 non-null  object             \n",
      " 17  outcome_subtype         87349 non-null   object             \n",
      " 18  animal_type_outcome     221168 non-null  object             \n",
      " 19  sex_upon_outcome        221168 non-null  object             \n",
      " 20  age_upon_outcome        221168 non-null  object             \n",
      " 21  breed_outcome           221168 non-null  object             \n",
      " 22  color_outcome           221168 non-null  object             \n",
      " 23  age_upon_outcome_days   220885 non-null  float64            \n",
      " 24  age_upon_outcome_years  220885 non-null  float64            \n",
      " 25  age_upon_intake_days    219884 non-null  float64            \n",
      " 26  age_upon_intake_years   219884 non-null  float64            \n",
      " 27  is_mixed                221168 non-null  bool               \n",
      " 28  num_breeds              221168 non-null  int64              \n",
      " 29  size_category           221168 non-null  object             \n",
      " 30  is_working              221168 non-null  bool               \n",
      " 31  is_sporting             221168 non-null  bool               \n",
      " 32  is_terrier              221168 non-null  bool               \n",
      " 33  is_popular_dog          221168 non-null  bool               \n",
      " 34  is_popular_cat          221168 non-null  bool               \n",
      " 35  is_exotic               221168 non-null  bool               \n",
      " 36  primary_breed           221168 non-null  object             \n",
      " 37  breed_complexity        221168 non-null  int64              \n",
      "dtypes: bool(7), datetime64[ns, UTC](1), datetime64[ns](3), float64(4), int64(2), object(21)\n",
      "memory usage: 53.8+ MB\n"
     ]
    }
   ],
   "source": [
    "combined_df.info()"
   ]
  },
  {
   "cell_type": "code",
   "execution_count": 45,
   "id": "7a285902",
   "metadata": {},
   "outputs": [],
   "source": [
    "combined_df = combined_df.drop(columns=['breed_intake','breed_outcome'])"
   ]
  },
  {
   "cell_type": "markdown",
   "id": "1b435380",
   "metadata": {},
   "source": [
    "## Has name column"
   ]
  },
  {
   "cell_type": "markdown",
   "id": "9fb2246a",
   "metadata": {},
   "source": [
    "### Fix cases with weight in place of name\n",
    "\n",
    "Some newborn animals have their weight put into the name column. Let's fix this"
   ]
  },
  {
   "cell_type": "code",
   "execution_count": 46,
   "id": "e9f60e65",
   "metadata": {},
   "outputs": [],
   "source": [
    "# Replace weight entries with null values\n",
    "combined_df['name_intake'] = combined_df['name_intake'].replace(r'^\\d+\\s*grams?$', pd.NA, regex=True)\n",
    "combined_df['name_outcome'] = combined_df['name_outcome'].replace(r'^\\d+\\s*grams?$', pd.NA, regex=True)"
   ]
  },
  {
   "cell_type": "markdown",
   "id": "48d78ff9",
   "metadata": {},
   "source": [
    "### If name at outcome is not null, has_name will be 1, 0 otherwise"
   ]
  },
  {
   "cell_type": "code",
   "execution_count": 47,
   "id": "a5f3443e",
   "metadata": {},
   "outputs": [],
   "source": [
    "combined_df['has_name'] = combined_df['name_outcome'].notnull().astype(int)"
   ]
  },
  {
   "cell_type": "markdown",
   "id": "19e60a32",
   "metadata": {},
   "source": [
    "## Keeping only Dogs and Cats\n",
    "\n",
    "Less than 6% if instances are not dogs or cats. Thus, for this model, dropping those instances makes sense."
   ]
  },
  {
   "cell_type": "code",
   "execution_count": 49,
   "id": "98061817",
   "metadata": {},
   "outputs": [],
   "source": [
    "combined_df = combined_df[combined_df['animal_type_outcome'].isin(['Dog', 'Cat'])]"
   ]
  },
  {
   "cell_type": "markdown",
   "id": "21c65618",
   "metadata": {},
   "source": [
    "## Fix found_location column to extract feature\n",
    "\n",
    "The good thing here is that the location an animal is found is noted down, but, due to high cardinality, this feature also needs to be engineered. Capturing the jurisdiction, and area related information is going to be engineered."
   ]
  },
  {
   "cell_type": "code",
   "execution_count": 56,
   "id": "4f724a23",
   "metadata": {},
   "outputs": [],
   "source": [
    "def engineer_location_features(df, location_column='found_location'):\n",
    "    \"\"\"Extract meaningful features from found_location\"\"\"\n",
    "    \n",
    "    df = df.copy()\n",
    "    \n",
    "    # Extract jurisdiction/city from parentheses or end of string\n",
    "    def extract_jurisdiction(location_str):\n",
    "        if pd.isna(location_str):\n",
    "            return None\n",
    "        location_str = str(location_str).strip()\n",
    "        \n",
    "        # Pattern for (TX) or (County)\n",
    "        paren_match = re.search(r'\\(([^)]+)\\)', location_str)\n",
    "        if paren_match:\n",
    "            return paren_match.group(1)\n",
    "        \n",
    "        # For cases like \"Manor(TX)\" without space\n",
    "        no_space_match = re.search(r'([A-Za-z]+)\\([^)]+\\)$', location_str)\n",
    "        if no_space_match:\n",
    "            return no_space_match.group(1)\n",
    "        \n",
    "        return None\n",
    "    \n",
    "    # Extract city/area name\n",
    "    def extract_city(location_str):\n",
    "        if pd.isna(location_str):\n",
    "            return None\n",
    "        location_str = str(location_str).strip()\n",
    "        \n",
    "        # Handle \"Outside jurisdiction\"\n",
    "        if 'outside jurisdiction' in location_str.lower():\n",
    "            return 'Outside Jurisdiction'\n",
    "        \n",
    "        # Extract city before \" in \" or before parentheses\n",
    "        if ' in ' in location_str:\n",
    "            parts = location_str.split(' in ')\n",
    "            if len(parts) > 1:\n",
    "                city_part = parts[1].split('(')[0].strip()\n",
    "                return city_part\n",
    "        \n",
    "        # For direct formats like \"Austin (TX)\" or \"Manor(TX)\"\n",
    "        city_match = re.search(r'^([A-Za-z\\s]+)(?:\\s*\\(|$)', location_str)\n",
    "        if city_match:\n",
    "            return city_match.group(1).strip()\n",
    "        \n",
    "        return location_str\n",
    "    \n",
    "    # Apply extractions\n",
    "    df['jurisdiction'] = df[location_column].apply(extract_jurisdiction)\n",
    "    df['city_area'] = df[location_column].apply(extract_city)\n",
    "    \n",
    "    # Austin area classifications\n",
    "    austin_areas = ['Austin', 'Travis', 'Manor', 'Pflugerville', 'Cedar Park', 'Round Rock', \n",
    "                   'Lakeway', 'Bee Cave', 'West Lake Hills', 'Rollingwood', 'Sunset Valley']\n",
    "    \n",
    "    surrounding_areas = ['Williamson', 'Hays', 'Bastrop', 'Caldwell', 'Georgetown', \n",
    "                        'Leander', 'Cedar Creek', 'Elgin', 'Dripping Springs']\n",
    "    \n",
    "    df['is_austin_metro'] = df['city_area'].isin(austin_areas)\n",
    "    df['is_surrounding_area'] = df['city_area'].isin(surrounding_areas)\n",
    "    df['is_outside_jurisdiction'] = df['city_area'] == 'Outside Jurisdiction'\n",
    "    \n",
    "    # Core Austin vs suburbs\n",
    "    df['is_core_austin'] = df['city_area'] == 'Austin'\n",
    "    df['is_travis_county'] = df['city_area'].isin(['Austin', 'Travis', 'Manor'])\n",
    "    \n",
    "    # Distance categories (approximate)\n",
    "    def categorize_distance(city):\n",
    "        if pd.isna(city):\n",
    "            return 'Unknown'\n",
    "        if city in ['Austin', 'Travis']:\n",
    "            return 'Core'\n",
    "        elif city in ['Manor', 'Pflugerville', 'West Lake Hills', 'Rollingwood', 'Sunset Valley']:\n",
    "            return 'Close Suburbs'\n",
    "        elif city in ['Cedar Park', 'Round Rock', 'Lakeway', 'Bee Cave']:\n",
    "            return 'Far Suburbs'\n",
    "        elif city == 'Outside Jurisdiction':\n",
    "            return 'Outside'\n",
    "        else:\n",
    "            return 'Other'\n",
    "    \n",
    "    df['distance_category'] = df['city_area'].apply(categorize_distance)\n",
    "    \n",
    "    # Has specific address (contains street info)\n",
    "    # df['has_address_detail'] = df[location_column].str.contains(r'\\d+\\s+\\w+', na=False)\n",
    "    \n",
    "    return df"
   ]
  },
  {
   "cell_type": "code",
   "execution_count": 57,
   "id": "8625d223",
   "metadata": {},
   "outputs": [],
   "source": [
    "combined_df = engineer_location_features(combined_df, 'found_location')"
   ]
  },
  {
   "cell_type": "code",
   "execution_count": 58,
   "id": "886305bc",
   "metadata": {},
   "outputs": [],
   "source": [
    "def print_location_summary(df):\n",
    "    \"\"\"Print summary of location features\"\"\"\n",
    "    print(\"Location Feature Summary:\")\n",
    "    print(f\"Core Austin: {df['is_core_austin'].sum()}\")\n",
    "    print(f\"Travis County: {df['is_travis_county'].sum()}\")\n",
    "    print(f\"Austin Metro: {df['is_austin_metro'].sum()}\")\n",
    "    print(f\"Outside Jurisdiction: {df['is_outside_jurisdiction'].sum()}\")\n",
    "    print(\"\\nDistance categories:\")\n",
    "    print(df['distance_category'].value_counts())"
   ]
  },
  {
   "cell_type": "code",
   "execution_count": 59,
   "id": "6130a325",
   "metadata": {},
   "outputs": [
    {
     "name": "stdout",
     "output_type": "stream",
     "text": [
      "Location Feature Summary:\n",
      "Core Austin: 172768\n",
      "Travis County: 199144\n",
      "Austin Metro: 202672\n",
      "Outside Jurisdiction: 3996\n",
      "\n",
      "Distance categories:\n",
      "distance_category\n",
      "Core             195052\n",
      "Close Suburbs      6814\n",
      "Other              4560\n",
      "Outside            3996\n",
      "Far Suburbs         806\n",
      "Name: count, dtype: int64\n"
     ]
    }
   ],
   "source": [
    "print_location_summary(combined_df)"
   ]
  },
  {
   "cell_type": "markdown",
   "id": "139dd496",
   "metadata": {},
   "source": [
    "## Duplicate case fix"
   ]
  },
  {
   "cell_type": "markdown",
   "id": "cee1a5eb",
   "metadata": {},
   "source": [
    "## Is fixed column"
   ]
  },
  {
   "cell_type": "markdown",
   "id": "6a859e99",
   "metadata": {},
   "source": [
    "## Create target variable **Is_Adopted**"
   ]
  },
  {
   "cell_type": "markdown",
   "id": "26fea1f6",
   "metadata": {},
   "source": [
    "## Drop *outcome_subtype* "
   ]
  },
  {
   "cell_type": "markdown",
   "id": "b3086010",
   "metadata": {},
   "source": []
  }
 ],
 "metadata": {
  "kernelspec": {
   "display_name": "community-capstone-X1y0cgVF-py3.11",
   "language": "python",
   "name": "python3"
  },
  "language_info": {
   "codemirror_mode": {
    "name": "ipython",
    "version": 3
   },
   "file_extension": ".py",
   "mimetype": "text/x-python",
   "name": "python",
   "nbconvert_exporter": "python",
   "pygments_lexer": "ipython3",
   "version": "3.11.7"
  }
 },
 "nbformat": 4,
 "nbformat_minor": 5
}
