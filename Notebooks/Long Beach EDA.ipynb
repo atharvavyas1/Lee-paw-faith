{
 "cells": [
  {
   "cell_type": "markdown",
   "metadata": {},
   "source": [
    "# Libraries"
   ]
  },
  {
   "cell_type": "code",
   "execution_count": 1,
   "metadata": {},
   "outputs": [],
   "source": [
    "import requests\n",
    "import pandas as pd\n",
    "from time import sleep\n",
    "import time"
   ]
  },
  {
   "cell_type": "markdown",
   "metadata": {},
   "source": [
    "## Removing column limit"
   ]
  },
  {
   "cell_type": "code",
   "execution_count": 2,
   "metadata": {},
   "outputs": [],
   "source": [
    "# Remove all limits for pandas\n",
    "pd.set_option('display.max_columns', None)\n",
    "pd.set_option('display.max_colwidth', None)"
   ]
  },
  {
   "cell_type": "markdown",
   "metadata": {},
   "source": [
    "# Data import"
   ]
  },
  {
   "cell_type": "markdown",
   "metadata": {},
   "source": [
    "## URL & RID"
   ]
  },
  {
   "cell_type": "code",
   "execution_count": 3,
   "metadata": {},
   "outputs": [],
   "source": [
    "BASE = \"https://data.sanjoseca.gov/api/3/action/datastore_search\""
   ]
  },
  {
   "cell_type": "code",
   "execution_count": 4,
   "metadata": {},
   "outputs": [],
   "source": [
    "RESOURCE_IDS = {\n",
    "    \"FY18-19\": \"e07604f7-3a93-411e-80b8-65cf07610747\",  # from earlier link\n",
    "    \"FY19-20\": \"18f65444-987a-4b1d-b33a-88418c5e74f6\",\n",
    "    \"FY20-21\": \"990cae02-60c6-4836-9f3b-d5d226a8e60c\",\n",
    "    \"FY21-22\": \"3e31a331-c132-412e-90be-519681936ed1\",\n",
    "    \"FY22-23\": \"a5d63c03-f270-4323-a86d-9daa6d1d7bdf\",\n",
    "    \"FY23-24\": \"2a130c41-ca89-4084-9a28-19709b3f24dd\",\n",
    "    \"FY24-25\": \"f3354a37-7e03-41f8-a94d-3f720389a68a\",\n",
    "}"
   ]
  },
  {
   "cell_type": "markdown",
   "metadata": {},
   "source": [
    "## Extraction function from API"
   ]
  },
  {
   "cell_type": "code",
   "execution_count": 5,
   "metadata": {},
   "outputs": [],
   "source": [
    "def fetch_resource(rid: str, chunk: int = 10_000) -> pd.DataFrame:\n",
    "    \"\"\"Return *all* rows for a single CKAN resource_id as a DataFrame.\"\"\"\n",
    "    rows, offset, total = [], 0, None\n",
    "\n",
    "    while True:\n",
    "        params = {\"resource_id\": rid, \"limit\": chunk, \"offset\": offset}\n",
    "        res = requests.get(BASE, params=params, timeout=30).json()[\"result\"]\n",
    "\n",
    "        if total is None:\n",
    "            total = res[\"total\"]\n",
    "            print(f\"▶ {rid}  rows: {total:,}\")\n",
    "\n",
    "        rows.extend(res[\"records\"])\n",
    "        offset += chunk\n",
    "        if offset >= total:\n",
    "            break\n",
    "        time.sleep(0.25)        # be nice to the server\n",
    "\n",
    "    return pd.DataFrame(rows)"
   ]
  },
  {
   "cell_type": "markdown",
   "metadata": {},
   "source": [
    "## Function run for Dataframe"
   ]
  },
  {
   "cell_type": "code",
   "execution_count": 6,
   "metadata": {},
   "outputs": [
    {
     "name": "stdout",
     "output_type": "stream",
     "text": [
      "▶ e07604f7-3a93-411e-80b8-65cf07610747  rows: 21,628\n",
      "▶ 18f65444-987a-4b1d-b33a-88418c5e74f6  rows: 17,759\n",
      "▶ 990cae02-60c6-4836-9f3b-d5d226a8e60c  rows: 17,906\n",
      "▶ 3e31a331-c132-412e-90be-519681936ed1  rows: 18,404\n",
      "▶ a5d63c03-f270-4323-a86d-9daa6d1d7bdf  rows: 15,213\n",
      "▶ 2a130c41-ca89-4084-9a28-19709b3f24dd  rows: 19,538\n",
      "▶ f3354a37-7e03-41f8-a94d-3f720389a68a  rows: 17,814\n"
     ]
    }
   ],
   "source": [
    "frames = [fetch_resource(rid).assign(fy=fy)         # keep a FY column if useful\n",
    "          for fy, rid in RESOURCE_IDS.items()]"
   ]
  },
  {
   "cell_type": "code",
   "execution_count": 7,
   "metadata": {},
   "outputs": [],
   "source": [
    "df_all = pd.concat(frames, ignore_index=True)"
   ]
  },
  {
   "cell_type": "code",
   "execution_count": 8,
   "metadata": {},
   "outputs": [
    {
     "name": "stdout",
     "output_type": "stream",
     "text": [
      "\n",
      " Combined shape: (128262, 23)\n"
     ]
    }
   ],
   "source": [
    "print(\"\\n Combined shape:\", df_all.shape)"
   ]
  },
  {
   "cell_type": "markdown",
   "metadata": {},
   "source": [
    "## Data preview"
   ]
  },
  {
   "cell_type": "code",
   "execution_count": 9,
   "metadata": {},
   "outputs": [
    {
     "data": {
      "text/html": [
       "<div>\n",
       "<style scoped>\n",
       "    .dataframe tbody tr th:only-of-type {\n",
       "        vertical-align: middle;\n",
       "    }\n",
       "\n",
       "    .dataframe tbody tr th {\n",
       "        vertical-align: top;\n",
       "    }\n",
       "\n",
       "    .dataframe thead th {\n",
       "        text-align: right;\n",
       "    }\n",
       "</style>\n",
       "<table border=\"1\" class=\"dataframe\">\n",
       "  <thead>\n",
       "    <tr style=\"text-align: right;\">\n",
       "      <th></th>\n",
       "      <th>_id</th>\n",
       "      <th>AnimalID</th>\n",
       "      <th>AnimalName</th>\n",
       "      <th>AnimalType</th>\n",
       "      <th>PrimaryColor</th>\n",
       "      <th>SecondaryColor</th>\n",
       "      <th>PrimaryBreed</th>\n",
       "      <th>Sex</th>\n",
       "      <th>DOB</th>\n",
       "      <th>Age</th>\n",
       "      <th>IntakeDate</th>\n",
       "      <th>IntakeCondition</th>\n",
       "      <th>IntakeType</th>\n",
       "      <th>IntakeSubtype</th>\n",
       "      <th>IntakeReason</th>\n",
       "      <th>OutcomeDate</th>\n",
       "      <th>OutcomeType</th>\n",
       "      <th>OutcomeSubtype</th>\n",
       "      <th>OutcomeCondition</th>\n",
       "      <th>Crossing</th>\n",
       "      <th>Jurisdiction</th>\n",
       "      <th>LastUpdate</th>\n",
       "      <th>fy</th>\n",
       "    </tr>\n",
       "  </thead>\n",
       "  <tbody>\n",
       "    <tr>\n",
       "      <th>0</th>\n",
       "      <td>1</td>\n",
       "      <td>A0285916</td>\n",
       "      <td>TIGGER / TOFU</td>\n",
       "      <td>CAT</td>\n",
       "      <td>TABBY-GRAY</td>\n",
       "      <td>None</td>\n",
       "      <td>DOMESTIC SH</td>\n",
       "      <td>NEUTERED</td>\n",
       "      <td>1999-02-23</td>\n",
       "      <td>21 YEARS</td>\n",
       "      <td>2018-11-29</td>\n",
       "      <td>OTHER MED</td>\n",
       "      <td>STRAY</td>\n",
       "      <td>OTC</td>\n",
       "      <td>None</td>\n",
       "      <td>2018-11-30</td>\n",
       "      <td>RTO</td>\n",
       "      <td>None</td>\n",
       "      <td>MANAGE</td>\n",
       "      <td>500 BLOCK E SANTA CLARA ST, SAN JOSE CA 95112</td>\n",
       "      <td>SAN JOSE</td>\n",
       "      <td>2018-11-30</td>\n",
       "      <td>FY18-19</td>\n",
       "    </tr>\n",
       "    <tr>\n",
       "      <th>1</th>\n",
       "      <td>2</td>\n",
       "      <td>A0295477</td>\n",
       "      <td>MILTON</td>\n",
       "      <td>CAT</td>\n",
       "      <td>TABBY-GRAY</td>\n",
       "      <td>None</td>\n",
       "      <td>DOMESTIC SH</td>\n",
       "      <td>NEUTERED</td>\n",
       "      <td>2001-05-20</td>\n",
       "      <td>24 YEARS</td>\n",
       "      <td>2018-11-11</td>\n",
       "      <td>OTHER MED</td>\n",
       "      <td>STRAY</td>\n",
       "      <td>OTC</td>\n",
       "      <td>None</td>\n",
       "      <td>2018-11-30</td>\n",
       "      <td>RESCUE</td>\n",
       "      <td>None</td>\n",
       "      <td>MANAGE</td>\n",
       "      <td>HARDWOOD RD</td>\n",
       "      <td>None</td>\n",
       "      <td>2018-11-30</td>\n",
       "      <td>FY18-19</td>\n",
       "    </tr>\n",
       "    <tr>\n",
       "      <th>2</th>\n",
       "      <td>3</td>\n",
       "      <td>A0302361</td>\n",
       "      <td>None</td>\n",
       "      <td>CAT</td>\n",
       "      <td>TABBY-BRN</td>\n",
       "      <td>None</td>\n",
       "      <td>DOMESTIC SH</td>\n",
       "      <td>SPAYED</td>\n",
       "      <td>2001-05-09</td>\n",
       "      <td>17 YEARS</td>\n",
       "      <td>2019-02-11</td>\n",
       "      <td>DEAD</td>\n",
       "      <td>DISPO REQ</td>\n",
       "      <td>FIELD</td>\n",
       "      <td>None</td>\n",
       "      <td>2019-02-11</td>\n",
       "      <td>DISPOSAL</td>\n",
       "      <td>None</td>\n",
       "      <td>DEAD</td>\n",
       "      <td>1600 BLOCK VALLEY CREST</td>\n",
       "      <td>SAN JOSE</td>\n",
       "      <td>2019-02-11</td>\n",
       "      <td>FY18-19</td>\n",
       "    </tr>\n",
       "    <tr>\n",
       "      <th>3</th>\n",
       "      <td>4</td>\n",
       "      <td>A0306304</td>\n",
       "      <td>CLAIRE</td>\n",
       "      <td>CAT</td>\n",
       "      <td>GRAY</td>\n",
       "      <td>WHITE</td>\n",
       "      <td>DOMESTIC SH</td>\n",
       "      <td>SPAYED</td>\n",
       "      <td>2001-05-24</td>\n",
       "      <td>24 YEARS</td>\n",
       "      <td>2019-03-28</td>\n",
       "      <td>NORMAL</td>\n",
       "      <td>STRAY</td>\n",
       "      <td>FOUND</td>\n",
       "      <td>None</td>\n",
       "      <td>2019-07-09</td>\n",
       "      <td>FOUND EXP</td>\n",
       "      <td>None</td>\n",
       "      <td>None</td>\n",
       "      <td>300 BLOCK BROOKWOOD AVE, SAN JOSE CA 95116</td>\n",
       "      <td>SAN JOSE</td>\n",
       "      <td>2019-07-09</td>\n",
       "      <td>FY18-19</td>\n",
       "    </tr>\n",
       "    <tr>\n",
       "      <th>4</th>\n",
       "      <td>5</td>\n",
       "      <td>A0324842</td>\n",
       "      <td>NAKO</td>\n",
       "      <td>CAT</td>\n",
       "      <td>BLACK</td>\n",
       "      <td>None</td>\n",
       "      <td>DOMESTIC SH</td>\n",
       "      <td>SPAYED</td>\n",
       "      <td>2001-06-17</td>\n",
       "      <td>17 YEARS</td>\n",
       "      <td>2019-02-06</td>\n",
       "      <td>DEAD</td>\n",
       "      <td>DISPO REQ</td>\n",
       "      <td>OTC OWNED</td>\n",
       "      <td>None</td>\n",
       "      <td>2019-02-06</td>\n",
       "      <td>DISPOSAL</td>\n",
       "      <td>None</td>\n",
       "      <td>DEAD</td>\n",
       "      <td>None</td>\n",
       "      <td>SAN JOSE</td>\n",
       "      <td>2019-02-06</td>\n",
       "      <td>FY18-19</td>\n",
       "    </tr>\n",
       "  </tbody>\n",
       "</table>\n",
       "</div>"
      ],
      "text/plain": [
       "   _id  AnimalID     AnimalName AnimalType PrimaryColor SecondaryColor  \\\n",
       "0    1  A0285916  TIGGER / TOFU        CAT   TABBY-GRAY           None   \n",
       "1    2  A0295477         MILTON        CAT   TABBY-GRAY           None   \n",
       "2    3  A0302361           None        CAT    TABBY-BRN           None   \n",
       "3    4  A0306304         CLAIRE        CAT         GRAY          WHITE   \n",
       "4    5  A0324842           NAKO        CAT        BLACK           None   \n",
       "\n",
       "  PrimaryBreed       Sex         DOB       Age  IntakeDate IntakeCondition  \\\n",
       "0  DOMESTIC SH  NEUTERED  1999-02-23  21 YEARS  2018-11-29       OTHER MED   \n",
       "1  DOMESTIC SH  NEUTERED  2001-05-20  24 YEARS  2018-11-11       OTHER MED   \n",
       "2  DOMESTIC SH    SPAYED  2001-05-09  17 YEARS  2019-02-11            DEAD   \n",
       "3  DOMESTIC SH    SPAYED  2001-05-24  24 YEARS  2019-03-28          NORMAL   \n",
       "4  DOMESTIC SH    SPAYED  2001-06-17  17 YEARS  2019-02-06            DEAD   \n",
       "\n",
       "  IntakeType IntakeSubtype IntakeReason OutcomeDate OutcomeType  \\\n",
       "0      STRAY           OTC         None  2018-11-30         RTO   \n",
       "1      STRAY           OTC         None  2018-11-30      RESCUE   \n",
       "2  DISPO REQ         FIELD         None  2019-02-11    DISPOSAL   \n",
       "3      STRAY         FOUND         None  2019-07-09   FOUND EXP   \n",
       "4  DISPO REQ     OTC OWNED         None  2019-02-06    DISPOSAL   \n",
       "\n",
       "  OutcomeSubtype OutcomeCondition  \\\n",
       "0           None           MANAGE   \n",
       "1           None           MANAGE   \n",
       "2           None             DEAD   \n",
       "3           None             None   \n",
       "4           None             DEAD   \n",
       "\n",
       "                                        Crossing Jurisdiction  LastUpdate  \\\n",
       "0  500 BLOCK E SANTA CLARA ST, SAN JOSE CA 95112     SAN JOSE  2018-11-30   \n",
       "1                                    HARDWOOD RD         None  2018-11-30   \n",
       "2                        1600 BLOCK VALLEY CREST     SAN JOSE  2019-02-11   \n",
       "3     300 BLOCK BROOKWOOD AVE, SAN JOSE CA 95116     SAN JOSE  2019-07-09   \n",
       "4                                           None     SAN JOSE  2019-02-06   \n",
       "\n",
       "        fy  \n",
       "0  FY18-19  \n",
       "1  FY18-19  \n",
       "2  FY18-19  \n",
       "3  FY18-19  \n",
       "4  FY18-19  "
      ]
     },
     "execution_count": 9,
     "metadata": {},
     "output_type": "execute_result"
    }
   ],
   "source": [
    "df_all.head()"
   ]
  },
  {
   "cell_type": "markdown",
   "metadata": {},
   "source": [
    "# EDA"
   ]
  },
  {
   "cell_type": "code",
   "execution_count": null,
   "metadata": {},
   "outputs": [],
   "source": []
  }
 ],
 "metadata": {
  "kernelspec": {
   "display_name": "community-capstone-X1y0cgVF-py3.11",
   "language": "python",
   "name": "python3"
  },
  "language_info": {
   "codemirror_mode": {
    "name": "ipython",
    "version": 3
   },
   "file_extension": ".py",
   "mimetype": "text/x-python",
   "name": "python",
   "nbconvert_exporter": "python",
   "pygments_lexer": "ipython3",
   "version": "3.11.7"
  }
 },
 "nbformat": 4,
 "nbformat_minor": 2
}
