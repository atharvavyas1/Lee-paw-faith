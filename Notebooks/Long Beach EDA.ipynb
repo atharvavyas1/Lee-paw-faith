{
 "cells": [
  {
   "cell_type": "markdown",
   "metadata": {},
   "source": [
    "# Libraries"
   ]
  },
  {
   "cell_type": "code",
   "execution_count": 1,
   "metadata": {},
   "outputs": [],
   "source": [
    "import requests\n",
    "import pandas as pd\n",
    "import json\n",
    "from typing import Optional, Dict, Any, List\n",
    "from missingno import matrix"
   ]
  },
  {
   "cell_type": "markdown",
   "metadata": {},
   "source": [
    "## No column display limit"
   ]
  },
  {
   "cell_type": "code",
   "execution_count": 2,
   "metadata": {},
   "outputs": [],
   "source": [
    "pd.set_option('display.max_columns', None)"
   ]
  },
  {
   "cell_type": "markdown",
   "metadata": {},
   "source": [
    "# Data extraction"
   ]
  },
  {
   "cell_type": "markdown",
   "metadata": {},
   "source": [
    "## API setup"
   ]
  },
  {
   "cell_type": "code",
   "execution_count": 3,
   "metadata": {},
   "outputs": [],
   "source": [
    "class LongBeachAnimalShelterAPI:\n",
    "    \"\"\"\n",
    "    A Python client for extracting data from the Long Beach Animal Shelter API\n",
    "    using the Opendatasoft Explore API v2.1\n",
    "    \"\"\"\n",
    "    \n",
    "    def __init__(self):\n",
    "        self.base_url = \"https://longbeach.opendatasoft.com/api/explore/v2.1\"\n",
    "        self.dataset_id = \"animal-shelter-intakes-and-outcomes\"\n",
    "        \n",
    "    def get_all_records(self, \n",
    "                       select: Optional[str] = None,\n",
    "                       where: Optional[str] = None,\n",
    "                       order_by: Optional[str] = None) -> pd.DataFrame:\n",
    "        \"\"\"\n",
    "        Extract all records from the animal shelter dataset without limits.\n",
    "        \n",
    "        Args:\n",
    "            select: Fields to select (default: all fields)\n",
    "            where: Filter conditions using ODSQL syntax\n",
    "            order_by: Order by clause\n",
    "            \n",
    "        Returns:\n",
    "            pandas.DataFrame with all records\n",
    "        \"\"\"\n",
    "        \n",
    "        all_records = []\n",
    "        offset = 0\n",
    "        limit = 100  # Maximum allowed per request\n",
    "        \n",
    "        while True:\n",
    "            # Build API request\n",
    "            url = f\"{self.base_url}/catalog/datasets/{self.dataset_id}/records\"\n",
    "            \n",
    "            params = {\n",
    "                'limit': limit,\n",
    "                'offset': offset\n",
    "            }\n",
    "            \n",
    "            # Add optional parameters\n",
    "            if select:\n",
    "                params['select'] = select\n",
    "            if where:\n",
    "                params['where'] = where\n",
    "            if order_by:\n",
    "                params['order_by'] = order_by\n",
    "                \n",
    "            try:\n",
    "                response = requests.get(url, params=params)\n",
    "                response.raise_for_status()\n",
    "                \n",
    "                data = response.json()\n",
    "                \n",
    "                # Extract records from response\n",
    "                records = data.get('results', [])\n",
    "                \n",
    "                if not records:\n",
    "                    break\n",
    "                    \n",
    "                all_records.extend(records)\n",
    "                \n",
    "                # Check if we've retrieved all records\n",
    "                total_count = data.get('total_count', 0)\n",
    "                if len(all_records) >= total_count:\n",
    "                    break\n",
    "                    \n",
    "                # Move to next batch\n",
    "                offset += limit\n",
    "                \n",
    "                print(f\"Retrieved {len(all_records)} of {total_count} records...\")\n",
    "                \n",
    "            except requests.RequestException as e:\n",
    "                print(f\"Error fetching data: {e}\")\n",
    "                break\n",
    "                \n",
    "        # Convert to DataFrame\n",
    "        df = pd.DataFrame(all_records)\n",
    "        print(f\"Successfully retrieved {len(df)} total records\")\n",
    "        \n",
    "        return df\n",
    "    \n",
    "    def get_dataset_info(self) -> Dict[str, Any]:\n",
    "        \"\"\"\n",
    "        Get metadata about the dataset including field information.\n",
    "        \n",
    "        Returns:\n",
    "            Dictionary with dataset metadata\n",
    "        \"\"\"\n",
    "        url = f\"{self.base_url}/catalog/datasets/{self.dataset_id}\"\n",
    "        \n",
    "        try:\n",
    "            response = requests.get(url)\n",
    "            response.raise_for_status()\n",
    "            return response.json()\n",
    "            \n",
    "        except requests.RequestException as e:\n",
    "            print(f\"Error fetching dataset info: {e}\")\n",
    "            return {}\n",
    "    \n",
    "    def export_to_csv(self, \n",
    "                     filename: str = \"animal_shelter_data.csv\",\n",
    "                     select: Optional[str] = None,\n",
    "                     where: Optional[str] = None) -> bool:\n",
    "        \"\"\"\n",
    "        Export data directly to CSV using the API's export endpoint.\n",
    "        \n",
    "        Args:\n",
    "            filename: Output CSV filename\n",
    "            select: Fields to select\n",
    "            where: Filter conditions\n",
    "            \n",
    "        Returns:\n",
    "            True if successful, False otherwise\n",
    "        \"\"\"\n",
    "        url = f\"{self.base_url}/catalog/datasets/{self.dataset_id}/exports/csv\"\n",
    "        \n",
    "        params = {'limit': -1}  # -1 means no limit for exports\n",
    "        \n",
    "        if select:\n",
    "            params['select'] = select\n",
    "        if where:\n",
    "            params['where'] = where\n",
    "            \n",
    "        try:\n",
    "            response = requests.get(url, params=params)\n",
    "            response.raise_for_status()\n",
    "            \n",
    "            with open(filename, 'wb') as f:\n",
    "                f.write(response.content)\n",
    "                \n",
    "            print(f\"Data exported to {filename}\")\n",
    "            return True\n",
    "            \n",
    "        except requests.RequestException as e:\n",
    "            print(f\"Error exporting data: {e}\")\n",
    "            return False"
   ]
  },
  {
   "cell_type": "markdown",
   "metadata": {},
   "source": [
    "## Run"
   ]
  },
  {
   "cell_type": "code",
   "execution_count": 4,
   "metadata": {},
   "outputs": [
    {
     "name": "stdout",
     "output_type": "stream",
     "text": [
      "Fetching all animal shelter records...\n",
      "Retrieved 100 of 32367 records...\n",
      "Retrieved 200 of 32367 records...\n",
      "Retrieved 300 of 32367 records...\n",
      "Retrieved 400 of 32367 records...\n",
      "Retrieved 500 of 32367 records...\n",
      "Retrieved 600 of 32367 records...\n",
      "Retrieved 700 of 32367 records...\n",
      "Retrieved 800 of 32367 records...\n",
      "Retrieved 900 of 32367 records...\n",
      "Retrieved 1000 of 32367 records...\n",
      "Retrieved 1100 of 32367 records...\n",
      "Retrieved 1200 of 32367 records...\n",
      "Retrieved 1300 of 32367 records...\n",
      "Retrieved 1400 of 32367 records...\n",
      "Retrieved 1500 of 32367 records...\n",
      "Retrieved 1600 of 32367 records...\n",
      "Retrieved 1700 of 32367 records...\n",
      "Retrieved 1800 of 32367 records...\n",
      "Retrieved 1900 of 32367 records...\n",
      "Retrieved 2000 of 32367 records...\n",
      "Retrieved 2100 of 32367 records...\n",
      "Retrieved 2200 of 32367 records...\n",
      "Retrieved 2300 of 32367 records...\n",
      "Retrieved 2400 of 32367 records...\n",
      "Retrieved 2500 of 32367 records...\n",
      "Retrieved 2600 of 32367 records...\n",
      "Retrieved 2700 of 32367 records...\n",
      "Retrieved 2800 of 32367 records...\n",
      "Retrieved 2900 of 32367 records...\n",
      "Retrieved 3000 of 32367 records...\n",
      "Retrieved 3100 of 32367 records...\n",
      "Retrieved 3200 of 32367 records...\n",
      "Retrieved 3300 of 32367 records...\n",
      "Retrieved 3400 of 32367 records...\n",
      "Retrieved 3500 of 32367 records...\n",
      "Retrieved 3600 of 32367 records...\n",
      "Retrieved 3700 of 32367 records...\n",
      "Retrieved 3800 of 32367 records...\n",
      "Retrieved 3900 of 32367 records...\n",
      "Retrieved 4000 of 32367 records...\n",
      "Retrieved 4100 of 32367 records...\n",
      "Retrieved 4200 of 32367 records...\n",
      "Retrieved 4300 of 32367 records...\n",
      "Retrieved 4400 of 32367 records...\n",
      "Retrieved 4500 of 32367 records...\n",
      "Retrieved 4600 of 32367 records...\n",
      "Retrieved 4700 of 32367 records...\n",
      "Retrieved 4800 of 32367 records...\n",
      "Retrieved 4900 of 32367 records...\n",
      "Retrieved 5000 of 32367 records...\n",
      "Retrieved 5100 of 32367 records...\n",
      "Retrieved 5200 of 32367 records...\n",
      "Retrieved 5300 of 32367 records...\n",
      "Retrieved 5400 of 32367 records...\n",
      "Retrieved 5500 of 32367 records...\n",
      "Retrieved 5600 of 32367 records...\n",
      "Retrieved 5700 of 32367 records...\n",
      "Retrieved 5800 of 32367 records...\n",
      "Retrieved 5900 of 32367 records...\n",
      "Retrieved 6000 of 32367 records...\n",
      "Retrieved 6100 of 32367 records...\n",
      "Retrieved 6200 of 32367 records...\n",
      "Retrieved 6300 of 32367 records...\n",
      "Retrieved 6400 of 32367 records...\n",
      "Retrieved 6500 of 32367 records...\n",
      "Retrieved 6600 of 32367 records...\n",
      "Retrieved 6700 of 32367 records...\n",
      "Retrieved 6800 of 32367 records...\n",
      "Retrieved 6900 of 32367 records...\n",
      "Retrieved 7000 of 32367 records...\n",
      "Retrieved 7100 of 32367 records...\n",
      "Retrieved 7200 of 32367 records...\n",
      "Retrieved 7300 of 32367 records...\n",
      "Retrieved 7400 of 32367 records...\n",
      "Retrieved 7500 of 32367 records...\n",
      "Retrieved 7600 of 32367 records...\n",
      "Retrieved 7700 of 32367 records...\n",
      "Retrieved 7800 of 32367 records...\n",
      "Retrieved 7900 of 32367 records...\n",
      "Retrieved 8000 of 32367 records...\n",
      "Retrieved 8100 of 32367 records...\n",
      "Retrieved 8200 of 32367 records...\n",
      "Retrieved 8300 of 32367 records...\n",
      "Retrieved 8400 of 32367 records...\n",
      "Retrieved 8500 of 32367 records...\n",
      "Retrieved 8600 of 32367 records...\n",
      "Retrieved 8700 of 32367 records...\n",
      "Retrieved 8800 of 32367 records...\n",
      "Retrieved 8900 of 32367 records...\n",
      "Retrieved 9000 of 32367 records...\n",
      "Retrieved 9100 of 32367 records...\n",
      "Retrieved 9200 of 32367 records...\n",
      "Retrieved 9300 of 32367 records...\n",
      "Retrieved 9400 of 32367 records...\n",
      "Retrieved 9500 of 32367 records...\n",
      "Retrieved 9600 of 32367 records...\n",
      "Retrieved 9700 of 32367 records...\n",
      "Retrieved 9800 of 32367 records...\n",
      "Retrieved 9900 of 32367 records...\n",
      "Retrieved 10000 of 32367 records...\n",
      "Error fetching data: 400 Client Error: Bad Request for url: https://longbeach.opendatasoft.com/api/explore/v2.1/catalog/datasets/animal-shelter-intakes-and-outcomes/records?limit=100&offset=10000\n",
      "Successfully retrieved 10000 total records\n",
      "Retrieved 10000 records\n",
      "Columns: ['animal_id', 'animal_name', 'animal_type', 'primary_color', 'secondary_color', 'sex', 'dob', 'intake_date', 'intake_cond', 'intake_type', 'intake_subtype', 'reason', 'outcome_date', 'crossing', 'jurisdiction', 'outcome_type', 'outcome_subtype', 'latitude', 'longitude', 'intake_is_dead', 'outcome_is_dead', 'was_outcome_alive', 'geopoint']\n",
      "\n",
      "Exporting all data to CSV...\n",
      "Data exported to longbeach_animal_shelter_complete.csv\n",
      "\n",
      "Sample data:\n",
      "  animal_id animal_name animal_type primary_color secondary_color      sex  \\\n",
      "0   A650273      *BOBBY         CAT         BLACK           WHITE     Male   \n",
      "1   A601909        None         CAT         BLACK           WHITE  Unknown   \n",
      "2   A601554        None         CAT          GRAY            None     Male   \n",
      "3   A699653     *DOMINO         CAT         BLACK           WHITE     Male   \n",
      "4   A615099        None         CAT          GRAY            None   Female   \n",
      "\n",
      "          dob intake_date       intake_cond intake_type intake_subtype reason  \\\n",
      "0  2020-09-18  2020-10-18        ILL SEVERE       STRAY          FIELD   None   \n",
      "1  2017-01-06  2018-01-06         FRACTIOUS       STRAY            OTC   None   \n",
      "2  2017-10-30  2017-12-30            NORMAL       STRAY            OTC   None   \n",
      "3  2023-03-27  2023-05-27            NORMAL       STRAY          FIELD   None   \n",
      "4  2018-08-30  2018-09-23  UNDER AGE/WEIGHT       STRAY            OTC   None   \n",
      "\n",
      "  outcome_date                                 crossing jurisdiction  \\\n",
      "0   2020-11-12  1500 W CAMERON ST, LONG BEACH, CA 90810   LONG BEACH   \n",
      "1   2018-02-15  1500 W LINCOLN ST, LONG BEACH, CA 90810   LONG BEACH   \n",
      "2   2018-01-02  1500 W LINCOLN ST, LONG BEACH, CA 90810   LONG BEACH   \n",
      "3   2023-07-19          1500 W SUMMIT ST, LONG BEACH CA   LONG BEACH   \n",
      "4   2018-10-06   1500 W SUMMIT ST, LONG BEACH, CA 90810   LONG BEACH   \n",
      "\n",
      "  outcome_type outcome_subtype   latitude   longitude   intake_is_dead  \\\n",
      "0       RESCUE         CATPAWS  33.823507 -118.213702  Alive on Intake   \n",
      "1   EUTHANASIA      BEH SEVERE  33.822738 -118.214301  Alive on Intake   \n",
      "2       RESCUE      FNDANIFOUN  33.822738 -118.214301  Alive on Intake   \n",
      "3     ADOPTION            None  33.792459 -118.212343  Alive on Intake   \n",
      "4       RESCUE      FNDANIFOUN  33.792459 -118.212343  Alive on Intake   \n",
      "\n",
      "  outcome_is_dead  was_outcome_alive                                  geopoint  \n",
      "0           FALSE                  1   {'lon': -118.213702, 'lat': 33.8235072}  \n",
      "1            TRUE                  0  {'lon': -118.2143006, 'lat': 33.8227375}  \n",
      "2           FALSE                  1  {'lon': -118.2143006, 'lat': 33.8227375}  \n",
      "3           FALSE                  1  {'lon': -118.2123431, 'lat': 33.7924587}  \n",
      "4           FALSE                  1  {'lon': -118.2123431, 'lat': 33.7924587}  \n"
     ]
    }
   ],
   "source": [
    "if __name__ == \"__main__\":\n",
    "    \n",
    "    # Initialize the API client\n",
    "    api = LongBeachAnimalShelterAPI()\n",
    "    \n",
    "    # Example 1: Get all records\n",
    "    print(\"Fetching all animal shelter records...\")\n",
    "    df = api.get_all_records()\n",
    "    print(f\"Retrieved {len(df)} records\")\n",
    "    print(f\"Columns: {list(df.columns)}\")\n",
    "    \n",
    "    \n",
    "    # Example 5: Export directly to CSV\n",
    "    print(\"\\nExporting all data to CSV...\")\n",
    "    api.export_to_csv(\"longbeach_animal_shelter_complete.csv\")\n",
    "    \n",
    "    \n",
    "    # Display sample data\n",
    "    if not df.empty:\n",
    "        print(\"\\nSample data:\")\n",
    "        print(df.head())"
   ]
  },
  {
   "cell_type": "code",
   "execution_count": 5,
   "metadata": {},
   "outputs": [],
   "source": [
    "df = pd.read_csv(\"longbeach_animal_shelter_complete.csv\", sep=None, engine='python')"
   ]
  },
  {
   "cell_type": "markdown",
   "metadata": {},
   "source": [
    "## Data info"
   ]
  },
  {
   "cell_type": "code",
   "execution_count": 6,
   "metadata": {},
   "outputs": [
    {
     "name": "stdout",
     "output_type": "stream",
     "text": [
      "<class 'pandas.core.frame.DataFrame'>\n",
      "RangeIndex: 32367 entries, 0 to 32366\n",
      "Data columns (total 23 columns):\n",
      " #   Column             Non-Null Count  Dtype  \n",
      "---  ------             --------------  -----  \n",
      " 0   ﻿animal_id         32367 non-null  object \n",
      " 1   animal_name        19253 non-null  object \n",
      " 2   animal_type        32367 non-null  object \n",
      " 3   primary_color      32367 non-null  object \n",
      " 4   secondary_color    15289 non-null  object \n",
      " 5   sex                32367 non-null  object \n",
      " 6   dob                28246 non-null  object \n",
      " 7   intake_date        32367 non-null  object \n",
      " 8   intake_cond        32367 non-null  object \n",
      " 9   intake_type        32367 non-null  object \n",
      " 10  intake_subtype     31942 non-null  object \n",
      " 11  reason             2164 non-null   object \n",
      " 12  outcome_date       31972 non-null  object \n",
      " 13  crossing           32367 non-null  object \n",
      " 14  jurisdiction       32366 non-null  object \n",
      " 15  outcome_type       31965 non-null  object \n",
      " 16  outcome_subtype    28445 non-null  object \n",
      " 17  latitude           32367 non-null  float64\n",
      " 18  longitude          32367 non-null  float64\n",
      " 19  intake_is_dead     32367 non-null  object \n",
      " 20  outcome_is_dead    32367 non-null  bool   \n",
      " 21  was_outcome_alive  32367 non-null  int64  \n",
      " 22  geopoint           32367 non-null  object \n",
      "dtypes: bool(1), float64(2), int64(1), object(19)\n",
      "memory usage: 5.5+ MB\n"
     ]
    }
   ],
   "source": [
    "df.info()"
   ]
  },
  {
   "cell_type": "markdown",
   "metadata": {},
   "source": [
    "## Data preview"
   ]
  },
  {
   "cell_type": "code",
   "execution_count": 7,
   "metadata": {},
   "outputs": [
    {
     "data": {
      "text/html": [
       "<div>\n",
       "<style scoped>\n",
       "    .dataframe tbody tr th:only-of-type {\n",
       "        vertical-align: middle;\n",
       "    }\n",
       "\n",
       "    .dataframe tbody tr th {\n",
       "        vertical-align: top;\n",
       "    }\n",
       "\n",
       "    .dataframe thead th {\n",
       "        text-align: right;\n",
       "    }\n",
       "</style>\n",
       "<table border=\"1\" class=\"dataframe\">\n",
       "  <thead>\n",
       "    <tr style=\"text-align: right;\">\n",
       "      <th></th>\n",
       "      <th>﻿animal_id</th>\n",
       "      <th>animal_name</th>\n",
       "      <th>animal_type</th>\n",
       "      <th>primary_color</th>\n",
       "      <th>secondary_color</th>\n",
       "      <th>sex</th>\n",
       "      <th>dob</th>\n",
       "      <th>intake_date</th>\n",
       "      <th>intake_cond</th>\n",
       "      <th>intake_type</th>\n",
       "      <th>intake_subtype</th>\n",
       "      <th>reason</th>\n",
       "      <th>outcome_date</th>\n",
       "      <th>crossing</th>\n",
       "      <th>jurisdiction</th>\n",
       "      <th>outcome_type</th>\n",
       "      <th>outcome_subtype</th>\n",
       "      <th>latitude</th>\n",
       "      <th>longitude</th>\n",
       "      <th>intake_is_dead</th>\n",
       "      <th>outcome_is_dead</th>\n",
       "      <th>was_outcome_alive</th>\n",
       "      <th>geopoint</th>\n",
       "    </tr>\n",
       "  </thead>\n",
       "  <tbody>\n",
       "    <tr>\n",
       "      <th>0</th>\n",
       "      <td>A742673</td>\n",
       "      <td>*CHERRY</td>\n",
       "      <td>CAT</td>\n",
       "      <td>BLACK</td>\n",
       "      <td>WHITE</td>\n",
       "      <td>Female</td>\n",
       "      <td>2025-04-28</td>\n",
       "      <td>2025-06-13</td>\n",
       "      <td>UNDER AGE/WEIGHT</td>\n",
       "      <td>STRAY</td>\n",
       "      <td>OTC</td>\n",
       "      <td>NaN</td>\n",
       "      <td>NaN</td>\n",
       "      <td>6600 BLK LONG BEACH BLVD, LONG BEACH, CA 90805</td>\n",
       "      <td>LONG BEACH</td>\n",
       "      <td>NaN</td>\n",
       "      <td>NaN</td>\n",
       "      <td>33.874691</td>\n",
       "      <td>-118.20261</td>\n",
       "      <td>Alive on Intake</td>\n",
       "      <td>False</td>\n",
       "      <td>1</td>\n",
       "      <td>33.8746909, -118.2026096</td>\n",
       "    </tr>\n",
       "    <tr>\n",
       "      <th>1</th>\n",
       "      <td>A739315</td>\n",
       "      <td>NaN</td>\n",
       "      <td>CAT</td>\n",
       "      <td>GRAY</td>\n",
       "      <td>WHITE</td>\n",
       "      <td>Male</td>\n",
       "      <td>2025-04-01</td>\n",
       "      <td>2025-04-11</td>\n",
       "      <td>UNDER AGE/WEIGHT</td>\n",
       "      <td>STRAY</td>\n",
       "      <td>OTC</td>\n",
       "      <td>NaN</td>\n",
       "      <td>2025-04-12</td>\n",
       "      <td>6600 BLK LONG BEACH BLVD, LONG BEACH, CA 90805</td>\n",
       "      <td>LONG BEACH</td>\n",
       "      <td>RESCUE</td>\n",
       "      <td>LITTLELION</td>\n",
       "      <td>33.874691</td>\n",
       "      <td>-118.20261</td>\n",
       "      <td>Alive on Intake</td>\n",
       "      <td>False</td>\n",
       "      <td>1</td>\n",
       "      <td>33.8746909, -118.2026096</td>\n",
       "    </tr>\n",
       "    <tr>\n",
       "      <th>2</th>\n",
       "      <td>A629181</td>\n",
       "      <td>NaN</td>\n",
       "      <td>DOG</td>\n",
       "      <td>BROWN</td>\n",
       "      <td>NaN</td>\n",
       "      <td>Male</td>\n",
       "      <td>2018-06-30</td>\n",
       "      <td>2019-06-30</td>\n",
       "      <td>INJURED  SEVERE</td>\n",
       "      <td>STRAY</td>\n",
       "      <td>FIELD</td>\n",
       "      <td>NaN</td>\n",
       "      <td>2019-06-30</td>\n",
       "      <td>6600 BLK LONG BEACH BLVD, LONG BEACH, CA 90805</td>\n",
       "      <td>LONG BEACH</td>\n",
       "      <td>EUTHANASIA</td>\n",
       "      <td>AT VET</td>\n",
       "      <td>33.874691</td>\n",
       "      <td>-118.20261</td>\n",
       "      <td>Alive on Intake</td>\n",
       "      <td>True</td>\n",
       "      <td>0</td>\n",
       "      <td>33.8746909, -118.2026096</td>\n",
       "    </tr>\n",
       "    <tr>\n",
       "      <th>3</th>\n",
       "      <td>A659886</td>\n",
       "      <td>NaN</td>\n",
       "      <td>DOG</td>\n",
       "      <td>WHITE</td>\n",
       "      <td>NaN</td>\n",
       "      <td>Male</td>\n",
       "      <td>2015-07-04</td>\n",
       "      <td>2021-07-04</td>\n",
       "      <td>INJURED  MODERATE</td>\n",
       "      <td>STRAY</td>\n",
       "      <td>FIELD</td>\n",
       "      <td>NaN</td>\n",
       "      <td>2021-07-05</td>\n",
       "      <td>6600 BLK LONG BEACH BLVD, LONG BEACH, CA 90805</td>\n",
       "      <td>LONG BEACH</td>\n",
       "      <td>EUTHANASIA</td>\n",
       "      <td>AT VET</td>\n",
       "      <td>33.874691</td>\n",
       "      <td>-118.20261</td>\n",
       "      <td>Alive on Intake</td>\n",
       "      <td>True</td>\n",
       "      <td>0</td>\n",
       "      <td>33.8746909, -118.2026096</td>\n",
       "    </tr>\n",
       "    <tr>\n",
       "      <th>4</th>\n",
       "      <td>A704407</td>\n",
       "      <td>*LYNETTE</td>\n",
       "      <td>DOG</td>\n",
       "      <td>TAN</td>\n",
       "      <td>NaN</td>\n",
       "      <td>Spayed</td>\n",
       "      <td>2019-02-06</td>\n",
       "      <td>2023-08-06</td>\n",
       "      <td>NORMAL</td>\n",
       "      <td>STRAY</td>\n",
       "      <td>OTC</td>\n",
       "      <td>NaN</td>\n",
       "      <td>2023-08-15</td>\n",
       "      <td>6600 BLK N CURTIS AVE LONG BEACH CA 90805</td>\n",
       "      <td>LONG BEACH</td>\n",
       "      <td>ADOPTION</td>\n",
       "      <td>NaN</td>\n",
       "      <td>33.874754</td>\n",
       "      <td>-118.15889</td>\n",
       "      <td>Alive on Intake</td>\n",
       "      <td>False</td>\n",
       "      <td>1</td>\n",
       "      <td>33.874754, -118.1588895</td>\n",
       "    </tr>\n",
       "  </tbody>\n",
       "</table>\n",
       "</div>"
      ],
      "text/plain": [
       "  ﻿animal_id animal_name animal_type primary_color secondary_color     sex  \\\n",
       "0    A742673     *CHERRY         CAT         BLACK           WHITE  Female   \n",
       "1    A739315         NaN         CAT          GRAY           WHITE    Male   \n",
       "2    A629181         NaN         DOG         BROWN             NaN    Male   \n",
       "3    A659886         NaN         DOG         WHITE             NaN    Male   \n",
       "4    A704407    *LYNETTE         DOG           TAN             NaN  Spayed   \n",
       "\n",
       "          dob intake_date        intake_cond intake_type intake_subtype  \\\n",
       "0  2025-04-28  2025-06-13   UNDER AGE/WEIGHT       STRAY            OTC   \n",
       "1  2025-04-01  2025-04-11   UNDER AGE/WEIGHT       STRAY            OTC   \n",
       "2  2018-06-30  2019-06-30    INJURED  SEVERE       STRAY          FIELD   \n",
       "3  2015-07-04  2021-07-04  INJURED  MODERATE       STRAY          FIELD   \n",
       "4  2019-02-06  2023-08-06             NORMAL       STRAY            OTC   \n",
       "\n",
       "  reason outcome_date                                        crossing  \\\n",
       "0    NaN          NaN  6600 BLK LONG BEACH BLVD, LONG BEACH, CA 90805   \n",
       "1    NaN   2025-04-12  6600 BLK LONG BEACH BLVD, LONG BEACH, CA 90805   \n",
       "2    NaN   2019-06-30  6600 BLK LONG BEACH BLVD, LONG BEACH, CA 90805   \n",
       "3    NaN   2021-07-05  6600 BLK LONG BEACH BLVD, LONG BEACH, CA 90805   \n",
       "4    NaN   2023-08-15       6600 BLK N CURTIS AVE LONG BEACH CA 90805   \n",
       "\n",
       "  jurisdiction outcome_type outcome_subtype   latitude  longitude  \\\n",
       "0   LONG BEACH          NaN             NaN  33.874691 -118.20261   \n",
       "1   LONG BEACH       RESCUE      LITTLELION  33.874691 -118.20261   \n",
       "2   LONG BEACH   EUTHANASIA          AT VET  33.874691 -118.20261   \n",
       "3   LONG BEACH   EUTHANASIA          AT VET  33.874691 -118.20261   \n",
       "4   LONG BEACH     ADOPTION             NaN  33.874754 -118.15889   \n",
       "\n",
       "    intake_is_dead  outcome_is_dead  was_outcome_alive  \\\n",
       "0  Alive on Intake            False                  1   \n",
       "1  Alive on Intake            False                  1   \n",
       "2  Alive on Intake             True                  0   \n",
       "3  Alive on Intake             True                  0   \n",
       "4  Alive on Intake            False                  1   \n",
       "\n",
       "                   geopoint  \n",
       "0  33.8746909, -118.2026096  \n",
       "1  33.8746909, -118.2026096  \n",
       "2  33.8746909, -118.2026096  \n",
       "3  33.8746909, -118.2026096  \n",
       "4   33.874754, -118.1588895  "
      ]
     },
     "execution_count": 7,
     "metadata": {},
     "output_type": "execute_result"
    }
   ],
   "source": [
    "df.head()"
   ]
  },
  {
   "cell_type": "markdown",
   "metadata": {},
   "source": [
    "# Data cleaning & Processing 1"
   ]
  },
  {
   "cell_type": "markdown",
   "metadata": {},
   "source": [
    "## Datetime conversion"
   ]
  },
  {
   "cell_type": "code",
   "execution_count": 8,
   "metadata": {},
   "outputs": [],
   "source": [
    "# Convert *dob*, *intake_date*, *outcome_date* to datetime\n",
    "df['dob'] = pd.to_datetime(df['dob'], errors='coerce')\n",
    "df['intake_date'] = pd.to_datetime(df['intake_date'], errors='coerce')\n",
    "df['outcome_date'] = pd.to_datetime(df['outcome_date'], errors='coerce')\n"
   ]
  },
  {
   "cell_type": "markdown",
   "metadata": {},
   "source": [
    "## Adding time to outcome"
   ]
  },
  {
   "cell_type": "code",
   "execution_count": 9,
   "metadata": {},
   "outputs": [],
   "source": [
    "df['time_to_outcome'] = df['outcome_date'] - df['intake_date'] # Calculate time to outcome in days"
   ]
  },
  {
   "cell_type": "markdown",
   "metadata": {},
   "source": [
    "# EDA"
   ]
  },
  {
   "cell_type": "markdown",
   "metadata": {},
   "source": [
    "## Null value analysis"
   ]
  },
  {
   "cell_type": "code",
   "execution_count": 10,
   "metadata": {},
   "outputs": [
    {
     "data": {
      "text/plain": [
       "animal_id            0.000000\n",
       "animal_name          40.516576\n",
       "animal_type           0.000000\n",
       "primary_color         0.000000\n",
       "secondary_color      52.763617\n",
       "sex                   0.000000\n",
       "dob                  12.732104\n",
       "intake_date           0.000000\n",
       "intake_cond           0.000000\n",
       "intake_type           0.000000\n",
       "intake_subtype        1.313066\n",
       "reason               93.314178\n",
       "outcome_date          1.220379\n",
       "crossing              0.000000\n",
       "jurisdiction          0.003090\n",
       "outcome_type          1.242006\n",
       "outcome_subtype      12.117280\n",
       "latitude              0.000000\n",
       "longitude             0.000000\n",
       "intake_is_dead        0.000000\n",
       "outcome_is_dead       0.000000\n",
       "was_outcome_alive     0.000000\n",
       "geopoint              0.000000\n",
       "time_to_outcome       1.220379\n",
       "dtype: float64"
      ]
     },
     "execution_count": 10,
     "metadata": {},
     "output_type": "execute_result"
    }
   ],
   "source": [
    "# Percentage of null values in each column\n",
    "df.isnull().mean()*100"
   ]
  },
  {
   "cell_type": "markdown",
   "metadata": {},
   "source": [
    "## MSNO matrix"
   ]
  },
  {
   "cell_type": "code",
   "execution_count": 11,
   "metadata": {},
   "outputs": [
    {
     "data": {
      "text/plain": [
       "<Axes: >"
      ]
     },
     "execution_count": 11,
     "metadata": {},
     "output_type": "execute_result"
    },
    {
     "data": {
      "image/png": "[encoded data removed]",
      "text/plain": [
       "<Figure size 2500x1000 with 2 Axes>"
      ]
     },
     "metadata": {},
     "output_type": "display_data"
    }
   ],
   "source": [
    "matrix(df)"
   ]
  },
  {
   "cell_type": "markdown",
   "metadata": {},
   "source": [
    "# Data cleaning & Processing 2"
   ]
  },
  {
   "cell_type": "markdown",
   "metadata": {},
   "source": [
    "## Replace null values of secondary colour"
   ]
  },
  {
   "cell_type": "code",
   "execution_count": 12,
   "metadata": {},
   "outputs": [],
   "source": [
    "df['secondary_color'] = df['secondary_color'].fillna('None')"
   ]
  },
  {
   "cell_type": "markdown",
   "metadata": {},
   "source": [
    "## Dropping columns *reason*, *geopoint*, *was_outcome_alive*, *animal_id*"
   ]
  },
  {
   "cell_type": "code",
   "execution_count": 13,
   "metadata": {},
   "outputs": [
    {
     "name": "stdout",
     "output_type": "stream",
     "text": [
      "<class 'pandas.core.frame.DataFrame'>\n",
      "RangeIndex: 32367 entries, 0 to 32366\n",
      "Data columns (total 24 columns):\n",
      " #   Column             Non-Null Count  Dtype          \n",
      "---  ------             --------------  -----          \n",
      " 0   ﻿animal_id         32367 non-null  object         \n",
      " 1   animal_name        19253 non-null  object         \n",
      " 2   animal_type        32367 non-null  object         \n",
      " 3   primary_color      32367 non-null  object         \n",
      " 4   secondary_color    32367 non-null  object         \n",
      " 5   sex                32367 non-null  object         \n",
      " 6   dob                28246 non-null  datetime64[ns] \n",
      " 7   intake_date        32367 non-null  datetime64[ns] \n",
      " 8   intake_cond        32367 non-null  object         \n",
      " 9   intake_type        32367 non-null  object         \n",
      " 10  intake_subtype     31942 non-null  object         \n",
      " 11  reason             2164 non-null   object         \n",
      " 12  outcome_date       31972 non-null  datetime64[ns] \n",
      " 13  crossing           32367 non-null  object         \n",
      " 14  jurisdiction       32366 non-null  object         \n",
      " 15  outcome_type       31965 non-null  object         \n",
      " 16  outcome_subtype    28445 non-null  object         \n",
      " 17  latitude           32367 non-null  float64        \n",
      " 18  longitude          32367 non-null  float64        \n",
      " 19  intake_is_dead     32367 non-null  object         \n",
      " 20  outcome_is_dead    32367 non-null  bool           \n",
      " 21  was_outcome_alive  32367 non-null  int64          \n",
      " 22  geopoint           32367 non-null  object         \n",
      " 23  time_to_outcome    31972 non-null  timedelta64[ns]\n",
      "dtypes: bool(1), datetime64[ns](3), float64(2), int64(1), object(16), timedelta64[ns](1)\n",
      "memory usage: 5.7+ MB\n"
     ]
    }
   ],
   "source": [
    "df.info()"
   ]
  },
  {
   "cell_type": "markdown",
   "metadata": {},
   "source": [
    "# Observations, changes, & notes"
   ]
  },
  {
   "cell_type": "markdown",
   "metadata": {},
   "source": [
    "# Observations, changes, & notes"
   ]
  },
  {
   "cell_type": "markdown",
   "metadata": {},
   "source": [
    "# Observations, changes, & notes"
   ]
  },
  {
   "cell_type": "markdown",
   "metadata": {},
   "source": [
    "# Observations, changes, & notes"
   ]
  },
  {
   "cell_type": "markdown",
   "metadata": {},
   "source": [
    "# Observations, changes, & notes"
   ]
  },
  {
   "cell_type": "markdown",
   "metadata": {},
   "source": [
    "1. Drop the following columns: *reason*, *geopoint*, *was_outcome_alive*, *animal_id*\n",
    "2. Add a *has_name* column, then drop *animal_name*\n",
    "3. Replace null values in *secondary_color* to \"None\" so that data for animals with more colours is preserved\n",
    "4. Drop missing values for *outcome_type*, *intake_subtype*, \n",
    "5. Replace missing values in *outcome_subtype* to most commonly occuring values, **after more exploration**\n",
    "6. Once incorporated into LUCA, drop *latitude*, *longitude*. Use *jurisdiction*\n",
    "7. Drop *crossing*, unless it helps in geospatial mapping\n",
    "8. Add a *time_to_outcome* variable\n",
    "9. Convert *dob*, *intake_date*, *outcome_date* to datetime\n",
    "10. *outcome_date*, and *outcome_type* have values missing together. Some values in *outcome_subtype* also miss when *outcome_type* is missing."
   ]
  },
  {
   "cell_type": "markdown",
   "metadata": {},
   "source": []
  }
 ],
 "metadata": {
  "kernelspec": {
   "display_name": "community-capstone-X1y0cgVF-py3.11",
   "language": "python",
   "name": "python3"
  },
  "language_info": {
   "codemirror_mode": {
    "name": "ipython",
    "version": 3
   },
   "file_extension": ".py",
   "mimetype": "text/x-python",
   "name": "python",
   "nbconvert_exporter": "python",
   "pygments_lexer": "ipython3",
   "version": "3.11.7"
  }
 },
 "nbformat": 4,
 "nbformat_minor": 2
}
